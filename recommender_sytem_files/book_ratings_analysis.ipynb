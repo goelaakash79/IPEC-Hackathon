{
 "cells": [
  {
   "cell_type": "markdown",
   "metadata": {},
   "source": [
    "## Importing Libraries"
   ]
  },
  {
   "cell_type": "code",
   "execution_count": 1,
   "metadata": {},
   "outputs": [],
   "source": [
    "import pandas as pd\n",
    "import numpy as np\n",
    "import seaborn as sns\n",
    "import matplotlib.pyplot as plt"
   ]
  },
  {
   "cell_type": "markdown",
   "metadata": {},
   "source": [
    "## Importing Dataset"
   ]
  },
  {
   "cell_type": "code",
   "execution_count": 2,
   "metadata": {},
   "outputs": [],
   "source": [
    "book_ratings = pd.read_csv('BX-Book-Ratings.csv', sep=';', error_bad_lines=False, encoding=\"latin-1\")"
   ]
  },
  {
   "cell_type": "markdown",
   "metadata": {},
   "source": [
    "## Basic Analysis"
   ]
  },
  {
   "cell_type": "code",
   "execution_count": 3,
   "metadata": {},
   "outputs": [
    {
     "data": {
      "text/html": [
       "<div>\n",
       "<style scoped>\n",
       "    .dataframe tbody tr th:only-of-type {\n",
       "        vertical-align: middle;\n",
       "    }\n",
       "\n",
       "    .dataframe tbody tr th {\n",
       "        vertical-align: top;\n",
       "    }\n",
       "\n",
       "    .dataframe thead th {\n",
       "        text-align: right;\n",
       "    }\n",
       "</style>\n",
       "<table border=\"1\" class=\"dataframe\">\n",
       "  <thead>\n",
       "    <tr style=\"text-align: right;\">\n",
       "      <th></th>\n",
       "      <th>User-ID</th>\n",
       "      <th>ISBN</th>\n",
       "      <th>Book-Rating</th>\n",
       "    </tr>\n",
       "  </thead>\n",
       "  <tbody>\n",
       "    <tr>\n",
       "      <th>0</th>\n",
       "      <td>276725</td>\n",
       "      <td>034545104X</td>\n",
       "      <td>0</td>\n",
       "    </tr>\n",
       "    <tr>\n",
       "      <th>1</th>\n",
       "      <td>276726</td>\n",
       "      <td>0155061224</td>\n",
       "      <td>5</td>\n",
       "    </tr>\n",
       "    <tr>\n",
       "      <th>2</th>\n",
       "      <td>276727</td>\n",
       "      <td>0446520802</td>\n",
       "      <td>0</td>\n",
       "    </tr>\n",
       "    <tr>\n",
       "      <th>3</th>\n",
       "      <td>276729</td>\n",
       "      <td>052165615X</td>\n",
       "      <td>3</td>\n",
       "    </tr>\n",
       "    <tr>\n",
       "      <th>4</th>\n",
       "      <td>276729</td>\n",
       "      <td>0521795028</td>\n",
       "      <td>6</td>\n",
       "    </tr>\n",
       "    <tr>\n",
       "      <th>5</th>\n",
       "      <td>276733</td>\n",
       "      <td>2080674722</td>\n",
       "      <td>0</td>\n",
       "    </tr>\n",
       "    <tr>\n",
       "      <th>6</th>\n",
       "      <td>276736</td>\n",
       "      <td>3257224281</td>\n",
       "      <td>8</td>\n",
       "    </tr>\n",
       "    <tr>\n",
       "      <th>7</th>\n",
       "      <td>276737</td>\n",
       "      <td>0600570967</td>\n",
       "      <td>6</td>\n",
       "    </tr>\n",
       "    <tr>\n",
       "      <th>8</th>\n",
       "      <td>276744</td>\n",
       "      <td>038550120X</td>\n",
       "      <td>7</td>\n",
       "    </tr>\n",
       "    <tr>\n",
       "      <th>9</th>\n",
       "      <td>276745</td>\n",
       "      <td>342310538</td>\n",
       "      <td>10</td>\n",
       "    </tr>\n",
       "  </tbody>\n",
       "</table>\n",
       "</div>"
      ],
      "text/plain": [
       "   User-ID        ISBN  Book-Rating\n",
       "0   276725  034545104X            0\n",
       "1   276726  0155061224            5\n",
       "2   276727  0446520802            0\n",
       "3   276729  052165615X            3\n",
       "4   276729  0521795028            6\n",
       "5   276733  2080674722            0\n",
       "6   276736  3257224281            8\n",
       "7   276737  0600570967            6\n",
       "8   276744  038550120X            7\n",
       "9   276745   342310538           10"
      ]
     },
     "execution_count": 3,
     "metadata": {},
     "output_type": "execute_result"
    }
   ],
   "source": [
    "book_ratings.head(10)"
   ]
  },
  {
   "cell_type": "code",
   "execution_count": 4,
   "metadata": {},
   "outputs": [
    {
     "data": {
      "text/html": [
       "<div>\n",
       "<style scoped>\n",
       "    .dataframe tbody tr th:only-of-type {\n",
       "        vertical-align: middle;\n",
       "    }\n",
       "\n",
       "    .dataframe tbody tr th {\n",
       "        vertical-align: top;\n",
       "    }\n",
       "\n",
       "    .dataframe thead th {\n",
       "        text-align: right;\n",
       "    }\n",
       "</style>\n",
       "<table border=\"1\" class=\"dataframe\">\n",
       "  <thead>\n",
       "    <tr style=\"text-align: right;\">\n",
       "      <th></th>\n",
       "      <th>User-ID</th>\n",
       "      <th>Book-Rating</th>\n",
       "    </tr>\n",
       "  </thead>\n",
       "  <tbody>\n",
       "    <tr>\n",
       "      <th>count</th>\n",
       "      <td>1.149780e+06</td>\n",
       "      <td>1.149780e+06</td>\n",
       "    </tr>\n",
       "    <tr>\n",
       "      <th>mean</th>\n",
       "      <td>1.403864e+05</td>\n",
       "      <td>2.866950e+00</td>\n",
       "    </tr>\n",
       "    <tr>\n",
       "      <th>std</th>\n",
       "      <td>8.056228e+04</td>\n",
       "      <td>3.854184e+00</td>\n",
       "    </tr>\n",
       "    <tr>\n",
       "      <th>min</th>\n",
       "      <td>2.000000e+00</td>\n",
       "      <td>0.000000e+00</td>\n",
       "    </tr>\n",
       "    <tr>\n",
       "      <th>25%</th>\n",
       "      <td>7.034500e+04</td>\n",
       "      <td>0.000000e+00</td>\n",
       "    </tr>\n",
       "    <tr>\n",
       "      <th>50%</th>\n",
       "      <td>1.410100e+05</td>\n",
       "      <td>0.000000e+00</td>\n",
       "    </tr>\n",
       "    <tr>\n",
       "      <th>75%</th>\n",
       "      <td>2.110280e+05</td>\n",
       "      <td>7.000000e+00</td>\n",
       "    </tr>\n",
       "    <tr>\n",
       "      <th>max</th>\n",
       "      <td>2.788540e+05</td>\n",
       "      <td>1.000000e+01</td>\n",
       "    </tr>\n",
       "  </tbody>\n",
       "</table>\n",
       "</div>"
      ],
      "text/plain": [
       "            User-ID   Book-Rating\n",
       "count  1.149780e+06  1.149780e+06\n",
       "mean   1.403864e+05  2.866950e+00\n",
       "std    8.056228e+04  3.854184e+00\n",
       "min    2.000000e+00  0.000000e+00\n",
       "25%    7.034500e+04  0.000000e+00\n",
       "50%    1.410100e+05  0.000000e+00\n",
       "75%    2.110280e+05  7.000000e+00\n",
       "max    2.788540e+05  1.000000e+01"
      ]
     },
     "execution_count": 4,
     "metadata": {},
     "output_type": "execute_result"
    }
   ],
   "source": [
    "book_ratings.describe()"
   ]
  },
  {
   "cell_type": "code",
   "execution_count": 5,
   "metadata": {},
   "outputs": [
    {
     "name": "stdout",
     "output_type": "stream",
     "text": [
      "<class 'pandas.core.frame.DataFrame'>\n",
      "RangeIndex: 1149780 entries, 0 to 1149779\n",
      "Data columns (total 3 columns):\n",
      "User-ID        1149780 non-null int64\n",
      "ISBN           1149780 non-null object\n",
      "Book-Rating    1149780 non-null int64\n",
      "dtypes: int64(2), object(1)\n",
      "memory usage: 26.3+ MB\n"
     ]
    }
   ],
   "source": [
    "book_ratings.info()"
   ]
  },
  {
   "cell_type": "markdown",
   "metadata": {},
   "source": [
    "## Replacing missing values by *np.nan*"
   ]
  },
  {
   "cell_type": "code",
   "execution_count": 6,
   "metadata": {},
   "outputs": [],
   "source": [
    "book_ratings.replace(0, np.nan, inplace = True)"
   ]
  },
  {
   "cell_type": "markdown",
   "metadata": {},
   "source": [
    "## Counting the number of missing values in each Column"
   ]
  },
  {
   "cell_type": "code",
   "execution_count": 7,
   "metadata": {},
   "outputs": [
    {
     "data": {
      "text/plain": [
       "User-ID             0\n",
       "ISBN                0\n",
       "Book-Rating    716109\n",
       "dtype: int64"
      ]
     },
     "execution_count": 7,
     "metadata": {},
     "output_type": "execute_result"
    }
   ],
   "source": [
    "book_ratings.isnull().sum()"
   ]
  },
  {
   "cell_type": "markdown",
   "metadata": {},
   "source": [
    "## Visualizing the number of Missing Values in each column"
   ]
  },
  {
   "cell_type": "code",
   "execution_count": 8,
   "metadata": {},
   "outputs": [
    {
     "data": {
      "text/plain": [
       "<matplotlib.axes._subplots.AxesSubplot at 0x7f523ee6c190>"
      ]
     },
     "execution_count": 8,
     "metadata": {},
     "output_type": "execute_result"
    },
    {
     "data": {
      "image/png": "[encoded data removed]",
      "text/plain": [
       "<Figure size 432x288 with 2 Axes>"
      ]
     },
     "metadata": {
      "needs_background": "light"
     },
     "output_type": "display_data"
    }
   ],
   "source": [
    "sns.heatmap(book_ratings.isnull())"
   ]
  },
  {
   "cell_type": "markdown",
   "metadata": {},
   "source": [
    "# Data Visualization"
   ]
  },
  {
   "cell_type": "markdown",
   "metadata": {},
   "source": [
    "## Most used ratings by the users"
   ]
  },
  {
   "cell_type": "code",
   "execution_count": 9,
   "metadata": {},
   "outputs": [
    {
     "data": {
      "text/plain": [
       "<matplotlib.axes._subplots.AxesSubplot at 0x7f52507c7550>"
      ]
     },
     "execution_count": 9,
     "metadata": {},
     "output_type": "execute_result"
    },
    {
     "data": {
      "image/png": "[encoded data removed]",
      "text/plain": [
       "<Figure size 432x288 with 1 Axes>"
      ]
     },
     "metadata": {
      "needs_background": "light"
     },
     "output_type": "display_data"
    }
   ],
   "source": [
    "book_ratings['Book-Rating'].value_counts().plot(kind = 'bar')"
   ]
  },
  {
   "cell_type": "code",
   "execution_count": 10,
   "metadata": {},
   "outputs": [
    {
     "data": {
      "text/plain": [
       "(340556, 1149780)"
      ]
     },
     "execution_count": 10,
     "metadata": {},
     "output_type": "execute_result"
    }
   ],
   "source": [
    "len(book_ratings['ISBN'].unique()), len(book_ratings['ISBN'])"
   ]
  },
  {
   "cell_type": "markdown",
   "metadata": {},
   "source": [
    "## Most Read Books"
   ]
  },
  {
   "cell_type": "code",
   "execution_count": 11,
   "metadata": {},
   "outputs": [
    {
     "data": {
      "text/plain": [
       "<matplotlib.axes._subplots.AxesSubplot at 0x7f5250760690>"
      ]
     },
     "execution_count": 11,
     "metadata": {},
     "output_type": "execute_result"
    },
    {
     "data": {
      "image/png": "[encoded data removed]",
      "text/plain": [
       "<Figure size 432x288 with 1 Axes>"
      ]
     },
     "metadata": {
      "needs_background": "light"
     },
     "output_type": "display_data"
    }
   ],
   "source": [
    "book_ratings['ISBN'].value_counts()[:20].plot(kind = 'bar')"
   ]
  },
  {
   "cell_type": "code",
   "execution_count": 12,
   "metadata": {},
   "outputs": [
    {
     "data": {
      "text/plain": [
       "105283"
      ]
     },
     "execution_count": 12,
     "metadata": {},
     "output_type": "execute_result"
    }
   ],
   "source": [
    "len(book_ratings['User-ID'].unique())"
   ]
  },
  {
   "cell_type": "markdown",
   "metadata": {},
   "source": [
    "## Top 20 Readers (wrt the number of books read)"
   ]
  },
  {
   "cell_type": "code",
   "execution_count": 13,
   "metadata": {},
   "outputs": [
    {
     "data": {
      "text/plain": [
       "<matplotlib.axes._subplots.AxesSubplot at 0x7f5250812b90>"
      ]
     },
     "execution_count": 13,
     "metadata": {},
     "output_type": "execute_result"
    },
    {
     "data": {
      "image/png": "[encoded data removed]",
      "text/plain": [
       "<Figure size 432x288 with 1 Axes>"
      ]
     },
     "metadata": {
      "needs_background": "light"
     },
     "output_type": "display_data"
    }
   ],
   "source": [
    "book_ratings['User-ID'].value_counts()[:20].plot(kind = 'bar')"
   ]
  },
  {
   "cell_type": "markdown",
   "metadata": {},
   "source": [
    "## Looking at the user who read the most number of books"
   ]
  },
  {
   "cell_type": "code",
   "execution_count": 14,
   "metadata": {},
   "outputs": [],
   "source": [
    "top_user_data = book_ratings[book_ratings['User-ID'] == 11676].dropna()"
   ]
  },
  {
   "cell_type": "code",
   "execution_count": 15,
   "metadata": {},
   "outputs": [
    {
     "name": "stdout",
     "output_type": "stream",
     "text": [
      "<class 'pandas.core.frame.DataFrame'>\n",
      "Int64Index: 8524 entries, 45326 to 58927\n",
      "Data columns (total 3 columns):\n",
      "User-ID        8524 non-null int64\n",
      "ISBN           8524 non-null object\n",
      "Book-Rating    8524 non-null float64\n",
      "dtypes: float64(1), int64(1), object(1)\n",
      "memory usage: 266.4+ KB\n"
     ]
    }
   ],
   "source": [
    "top_user_data.info()"
   ]
  },
  {
   "cell_type": "code",
   "execution_count": 16,
   "metadata": {},
   "outputs": [
    {
     "data": {
      "text/html": [
       "<div>\n",
       "<style scoped>\n",
       "    .dataframe tbody tr th:only-of-type {\n",
       "        vertical-align: middle;\n",
       "    }\n",
       "\n",
       "    .dataframe tbody tr th {\n",
       "        vertical-align: top;\n",
       "    }\n",
       "\n",
       "    .dataframe thead th {\n",
       "        text-align: right;\n",
       "    }\n",
       "</style>\n",
       "<table border=\"1\" class=\"dataframe\">\n",
       "  <thead>\n",
       "    <tr style=\"text-align: right;\">\n",
       "      <th></th>\n",
       "      <th>User-ID</th>\n",
       "      <th>Book-Rating</th>\n",
       "    </tr>\n",
       "  </thead>\n",
       "  <tbody>\n",
       "    <tr>\n",
       "      <th>count</th>\n",
       "      <td>8524.0</td>\n",
       "      <td>8524.000000</td>\n",
       "    </tr>\n",
       "    <tr>\n",
       "      <th>mean</th>\n",
       "      <td>11676.0</td>\n",
       "      <td>7.284374</td>\n",
       "    </tr>\n",
       "    <tr>\n",
       "      <th>std</th>\n",
       "      <td>0.0</td>\n",
       "      <td>2.029429</td>\n",
       "    </tr>\n",
       "    <tr>\n",
       "      <th>min</th>\n",
       "      <td>11676.0</td>\n",
       "      <td>1.000000</td>\n",
       "    </tr>\n",
       "    <tr>\n",
       "      <th>25%</th>\n",
       "      <td>11676.0</td>\n",
       "      <td>6.000000</td>\n",
       "    </tr>\n",
       "    <tr>\n",
       "      <th>50%</th>\n",
       "      <td>11676.0</td>\n",
       "      <td>8.000000</td>\n",
       "    </tr>\n",
       "    <tr>\n",
       "      <th>75%</th>\n",
       "      <td>11676.0</td>\n",
       "      <td>9.000000</td>\n",
       "    </tr>\n",
       "    <tr>\n",
       "      <th>max</th>\n",
       "      <td>11676.0</td>\n",
       "      <td>10.000000</td>\n",
       "    </tr>\n",
       "  </tbody>\n",
       "</table>\n",
       "</div>"
      ],
      "text/plain": [
       "       User-ID  Book-Rating\n",
       "count   8524.0  8524.000000\n",
       "mean   11676.0     7.284374\n",
       "std        0.0     2.029429\n",
       "min    11676.0     1.000000\n",
       "25%    11676.0     6.000000\n",
       "50%    11676.0     8.000000\n",
       "75%    11676.0     9.000000\n",
       "max    11676.0    10.000000"
      ]
     },
     "execution_count": 16,
     "metadata": {},
     "output_type": "execute_result"
    }
   ],
   "source": [
    "top_user_data.describe()"
   ]
  },
  {
   "cell_type": "markdown",
   "metadata": {},
   "source": [
    "# Importing the Books-Dataset"
   ]
  },
  {
   "cell_type": "code",
   "execution_count": 17,
   "metadata": {},
   "outputs": [
    {
     "name": "stderr",
     "output_type": "stream",
     "text": [
      "Skipping line 6452: expected 8 fields, saw 9\n",
      "Skipping line 43667: expected 8 fields, saw 10\n",
      "Skipping line 51751: expected 8 fields, saw 9\n",
      "\n",
      "Skipping line 92038: expected 8 fields, saw 9\n",
      "Skipping line 104319: expected 8 fields, saw 9\n",
      "Skipping line 121768: expected 8 fields, saw 9\n",
      "\n",
      "Skipping line 144058: expected 8 fields, saw 9\n",
      "Skipping line 150789: expected 8 fields, saw 9\n",
      "Skipping line 157128: expected 8 fields, saw 9\n",
      "Skipping line 180189: expected 8 fields, saw 9\n",
      "Skipping line 185738: expected 8 fields, saw 9\n",
      "\n",
      "Skipping line 209388: expected 8 fields, saw 9\n",
      "Skipping line 220626: expected 8 fields, saw 9\n",
      "Skipping line 227933: expected 8 fields, saw 11\n",
      "Skipping line 228957: expected 8 fields, saw 10\n",
      "Skipping line 245933: expected 8 fields, saw 9\n",
      "Skipping line 251296: expected 8 fields, saw 9\n",
      "Skipping line 259941: expected 8 fields, saw 9\n",
      "Skipping line 261529: expected 8 fields, saw 9\n",
      "\n",
      "/home/revant/.local/lib/python2.7/site-packages/IPython/core/interactiveshell.py:2714: DtypeWarning: Columns (3) have mixed types. Specify dtype option on import or set low_memory=False.\n",
      "  interactivity=interactivity, compiler=compiler, result=result)\n"
     ]
    }
   ],
   "source": [
    "books_data = pd.read_csv('BX-Books.csv', sep=';', error_bad_lines=False, encoding='latin-1')\n",
    "books_data.columns = ['ISBN', 'book-title', 'author', 'year-of-publication', 'publisher', 'img-url-s', 'img-url-m', 'img-url-l']"
   ]
  },
  {
   "cell_type": "markdown",
   "metadata": {},
   "source": [
    "## Merging it with the existing Dataset"
   ]
  },
  {
   "cell_type": "code",
   "execution_count": 18,
   "metadata": {},
   "outputs": [],
   "source": [
    "dataset = book_ratings.merge(books_data, on = 'ISBN')"
   ]
  },
  {
   "cell_type": "code",
   "execution_count": 19,
   "metadata": {},
   "outputs": [
    {
     "data": {
      "text/html": [
       "<div>\n",
       "<style scoped>\n",
       "    .dataframe tbody tr th:only-of-type {\n",
       "        vertical-align: middle;\n",
       "    }\n",
       "\n",
       "    .dataframe tbody tr th {\n",
       "        vertical-align: top;\n",
       "    }\n",
       "\n",
       "    .dataframe thead th {\n",
       "        text-align: right;\n",
       "    }\n",
       "</style>\n",
       "<table border=\"1\" class=\"dataframe\">\n",
       "  <thead>\n",
       "    <tr style=\"text-align: right;\">\n",
       "      <th></th>\n",
       "      <th>User-ID</th>\n",
       "      <th>ISBN</th>\n",
       "      <th>Book-Rating</th>\n",
       "      <th>book-title</th>\n",
       "      <th>author</th>\n",
       "      <th>year-of-publication</th>\n",
       "      <th>publisher</th>\n",
       "      <th>img-url-s</th>\n",
       "      <th>img-url-m</th>\n",
       "      <th>img-url-l</th>\n",
       "    </tr>\n",
       "  </thead>\n",
       "  <tbody>\n",
       "    <tr>\n",
       "      <th>0</th>\n",
       "      <td>276725</td>\n",
       "      <td>034545104X</td>\n",
       "      <td>NaN</td>\n",
       "      <td>Flesh Tones: A Novel</td>\n",
       "      <td>M. J. Rose</td>\n",
       "      <td>2002</td>\n",
       "      <td>Ballantine Books</td>\n",
       "      <td>http://images.amazon.com/images/P/034545104X.0...</td>\n",
       "      <td>http://images.amazon.com/images/P/034545104X.0...</td>\n",
       "      <td>http://images.amazon.com/images/P/034545104X.0...</td>\n",
       "    </tr>\n",
       "    <tr>\n",
       "      <th>1</th>\n",
       "      <td>2313</td>\n",
       "      <td>034545104X</td>\n",
       "      <td>5.0</td>\n",
       "      <td>Flesh Tones: A Novel</td>\n",
       "      <td>M. J. Rose</td>\n",
       "      <td>2002</td>\n",
       "      <td>Ballantine Books</td>\n",
       "      <td>http://images.amazon.com/images/P/034545104X.0...</td>\n",
       "      <td>http://images.amazon.com/images/P/034545104X.0...</td>\n",
       "      <td>http://images.amazon.com/images/P/034545104X.0...</td>\n",
       "    </tr>\n",
       "    <tr>\n",
       "      <th>2</th>\n",
       "      <td>6543</td>\n",
       "      <td>034545104X</td>\n",
       "      <td>NaN</td>\n",
       "      <td>Flesh Tones: A Novel</td>\n",
       "      <td>M. J. Rose</td>\n",
       "      <td>2002</td>\n",
       "      <td>Ballantine Books</td>\n",
       "      <td>http://images.amazon.com/images/P/034545104X.0...</td>\n",
       "      <td>http://images.amazon.com/images/P/034545104X.0...</td>\n",
       "      <td>http://images.amazon.com/images/P/034545104X.0...</td>\n",
       "    </tr>\n",
       "    <tr>\n",
       "      <th>3</th>\n",
       "      <td>8680</td>\n",
       "      <td>034545104X</td>\n",
       "      <td>5.0</td>\n",
       "      <td>Flesh Tones: A Novel</td>\n",
       "      <td>M. J. Rose</td>\n",
       "      <td>2002</td>\n",
       "      <td>Ballantine Books</td>\n",
       "      <td>http://images.amazon.com/images/P/034545104X.0...</td>\n",
       "      <td>http://images.amazon.com/images/P/034545104X.0...</td>\n",
       "      <td>http://images.amazon.com/images/P/034545104X.0...</td>\n",
       "    </tr>\n",
       "    <tr>\n",
       "      <th>4</th>\n",
       "      <td>10314</td>\n",
       "      <td>034545104X</td>\n",
       "      <td>9.0</td>\n",
       "      <td>Flesh Tones: A Novel</td>\n",
       "      <td>M. J. Rose</td>\n",
       "      <td>2002</td>\n",
       "      <td>Ballantine Books</td>\n",
       "      <td>http://images.amazon.com/images/P/034545104X.0...</td>\n",
       "      <td>http://images.amazon.com/images/P/034545104X.0...</td>\n",
       "      <td>http://images.amazon.com/images/P/034545104X.0...</td>\n",
       "    </tr>\n",
       "  </tbody>\n",
       "</table>\n",
       "</div>"
      ],
      "text/plain": [
       "   User-ID        ISBN  Book-Rating            book-title      author  \\\n",
       "0   276725  034545104X          NaN  Flesh Tones: A Novel  M. J. Rose   \n",
       "1     2313  034545104X          5.0  Flesh Tones: A Novel  M. J. Rose   \n",
       "2     6543  034545104X          NaN  Flesh Tones: A Novel  M. J. Rose   \n",
       "3     8680  034545104X          5.0  Flesh Tones: A Novel  M. J. Rose   \n",
       "4    10314  034545104X          9.0  Flesh Tones: A Novel  M. J. Rose   \n",
       "\n",
       "  year-of-publication         publisher  \\\n",
       "0                2002  Ballantine Books   \n",
       "1                2002  Ballantine Books   \n",
       "2                2002  Ballantine Books   \n",
       "3                2002  Ballantine Books   \n",
       "4                2002  Ballantine Books   \n",
       "\n",
       "                                           img-url-s  \\\n",
       "0  http://images.amazon.com/images/P/034545104X.0...   \n",
       "1  http://images.amazon.com/images/P/034545104X.0...   \n",
       "2  http://images.amazon.com/images/P/034545104X.0...   \n",
       "3  http://images.amazon.com/images/P/034545104X.0...   \n",
       "4  http://images.amazon.com/images/P/034545104X.0...   \n",
       "\n",
       "                                           img-url-m  \\\n",
       "0  http://images.amazon.com/images/P/034545104X.0...   \n",
       "1  http://images.amazon.com/images/P/034545104X.0...   \n",
       "2  http://images.amazon.com/images/P/034545104X.0...   \n",
       "3  http://images.amazon.com/images/P/034545104X.0...   \n",
       "4  http://images.amazon.com/images/P/034545104X.0...   \n",
       "\n",
       "                                           img-url-l  \n",
       "0  http://images.amazon.com/images/P/034545104X.0...  \n",
       "1  http://images.amazon.com/images/P/034545104X.0...  \n",
       "2  http://images.amazon.com/images/P/034545104X.0...  \n",
       "3  http://images.amazon.com/images/P/034545104X.0...  \n",
       "4  http://images.amazon.com/images/P/034545104X.0...  "
      ]
     },
     "execution_count": 19,
     "metadata": {},
     "output_type": "execute_result"
    }
   ],
   "source": [
    "dataset.head()"
   ]
  },
  {
   "cell_type": "markdown",
   "metadata": {},
   "source": [
    "## Removing unnecessary columns"
   ]
  },
  {
   "cell_type": "code",
   "execution_count": 20,
   "metadata": {},
   "outputs": [],
   "source": [
    "dataset.drop(columns = ['img-url-s', 'img-url-m', 'img-url-l'], inplace = True)"
   ]
  },
  {
   "cell_type": "markdown",
   "metadata": {},
   "source": [
    "## No. Of Books Published by the Authors (Top 10)"
   ]
  },
  {
   "cell_type": "code",
   "execution_count": 21,
   "metadata": {},
   "outputs": [
    {
     "data": {
      "text/plain": [
       "<matplotlib.axes._subplots.AxesSubplot at 0x7f521743ae90>"
      ]
     },
     "execution_count": 21,
     "metadata": {},
     "output_type": "execute_result"
    },
    {
     "data": {
      "image/png": "[encoded data removed]",
      "text/plain": [
       "<Figure size 432x288 with 1 Axes>"
      ]
     },
     "metadata": {
      "needs_background": "light"
     },
     "output_type": "display_data"
    }
   ],
   "source": [
    "books_data['author'].value_counts()[:10].plot(kind = 'bar')"
   ]
  },
  {
   "cell_type": "markdown",
   "metadata": {},
   "source": [
    "## No. of Books Published by the Publishers (Top 10)"
   ]
  },
  {
   "cell_type": "code",
   "execution_count": 22,
   "metadata": {},
   "outputs": [
    {
     "data": {
      "text/plain": [
       "<matplotlib.axes._subplots.AxesSubplot at 0x7f52505af590>"
      ]
     },
     "execution_count": 22,
     "metadata": {},
     "output_type": "execute_result"
    },
    {
     "data": {
      "image/png": "[encoded data removed]",
      "text/plain": [
       "<Figure size 432x288 with 1 Axes>"
      ]
     },
     "metadata": {
      "needs_background": "light"
     },
     "output_type": "display_data"
    }
   ],
   "source": [
    "books_data['publisher'].value_counts()[:10].plot(kind = 'bar')"
   ]
  },
  {
   "cell_type": "markdown",
   "metadata": {},
   "source": [
    "## Adding a column  ```total_books_written``` by the author"
   ]
  },
  {
   "cell_type": "code",
   "execution_count": 24,
   "metadata": {},
   "outputs": [],
   "source": [
    "author_books_counts = books_data['author'].value_counts()"
   ]
  },
  {
   "cell_type": "code",
   "execution_count": 25,
   "metadata": {},
   "outputs": [
    {
     "data": {
      "text/plain": [
       "1031136"
      ]
     },
     "execution_count": 25,
     "metadata": {},
     "output_type": "execute_result"
    }
   ],
   "source": [
    "author_list = dataset['author']\n",
    "len(author_list)"
   ]
  },
  {
   "cell_type": "code",
   "execution_count": 26,
   "metadata": {},
   "outputs": [],
   "source": [
    "l = []\n",
    "for author in author_list:\n",
    "    try:\n",
    "        l += [author_books_counts[str(author)]]\n",
    "    except :\n",
    "        l += [np.nan]"
   ]
  },
  {
   "cell_type": "code",
   "execution_count": 27,
   "metadata": {},
   "outputs": [],
   "source": [
    "dataset['total_books_written'] = l \n",
    "del author_list\n",
    "del l"
   ]
  },
  {
   "cell_type": "markdown",
   "metadata": {},
   "source": [
    "## Adding a column  ```total_books_published``` by the publisher"
   ]
  },
  {
   "cell_type": "code",
   "execution_count": 28,
   "metadata": {},
   "outputs": [],
   "source": [
    "publisher_books_counts = books_data['publisher'].value_counts()"
   ]
  },
  {
   "cell_type": "code",
   "execution_count": 29,
   "metadata": {},
   "outputs": [
    {
     "data": {
      "text/plain": [
       "1031136"
      ]
     },
     "execution_count": 29,
     "metadata": {},
     "output_type": "execute_result"
    }
   ],
   "source": [
    "publisher_list = dataset['publisher']\n",
    "len(publisher_list)"
   ]
  },
  {
   "cell_type": "code",
   "execution_count": 30,
   "metadata": {},
   "outputs": [],
   "source": [
    "l = []\n",
    "for publisher in publisher_list:\n",
    "    try:\n",
    "        l += [publisher_books_counts[publisher]]\n",
    "#     print(publisher_books_counts[publisher])\n",
    "#     break\n",
    "    except :\n",
    "#         print(publisher[0], end = ' ')\n",
    "        l += [np.nan]"
   ]
  },
  {
   "cell_type": "code",
   "execution_count": 31,
   "metadata": {},
   "outputs": [],
   "source": [
    "dataset['total_books_published'] = l\n",
    "del l\n",
    "del publisher_list"
   ]
  },
  {
   "cell_type": "markdown",
   "metadata": {},
   "source": [
    "# Visualizing the results"
   ]
  },
  {
   "cell_type": "markdown",
   "metadata": {},
   "source": [
    "## Number of authors VS Number of books written"
   ]
  },
  {
   "cell_type": "code",
   "execution_count": 32,
   "metadata": {},
   "outputs": [
    {
     "data": {
      "text/plain": [
       "<matplotlib.axes._subplots.AxesSubplot at 0x7f52365a94d0>"
      ]
     },
     "execution_count": 32,
     "metadata": {},
     "output_type": "execute_result"
    },
    {
     "data": {
      "image/png": "[encoded data removed]",
      "text/plain": [
       "<Figure size 432x288 with 1 Axes>"
      ]
     },
     "metadata": {
      "needs_background": "light"
     },
     "output_type": "display_data"
    }
   ],
   "source": [
    "dataset['total_books_written'].value_counts()[:10].plot(kind = 'bar')"
   ]
  },
  {
   "cell_type": "markdown",
   "metadata": {},
   "source": [
    "## Number of Books written by the Authors (Descencing Order) (Top 10)"
   ]
  },
  {
   "cell_type": "code",
   "execution_count": 33,
   "metadata": {},
   "outputs": [
    {
     "data": {
      "text/html": [
       "<div>\n",
       "<style scoped>\n",
       "    .dataframe tbody tr th:only-of-type {\n",
       "        vertical-align: middle;\n",
       "    }\n",
       "\n",
       "    .dataframe tbody tr th {\n",
       "        vertical-align: top;\n",
       "    }\n",
       "\n",
       "    .dataframe thead th {\n",
       "        text-align: right;\n",
       "    }\n",
       "</style>\n",
       "<table border=\"1\" class=\"dataframe\">\n",
       "  <thead>\n",
       "    <tr style=\"text-align: right;\">\n",
       "      <th></th>\n",
       "      <th>Book-Rating</th>\n",
       "      <th>total_books_written</th>\n",
       "    </tr>\n",
       "    <tr>\n",
       "      <th>author</th>\n",
       "      <th></th>\n",
       "      <th></th>\n",
       "    </tr>\n",
       "  </thead>\n",
       "  <tbody>\n",
       "    <tr>\n",
       "      <th>Agatha Christie</th>\n",
       "      <td>7.792102</td>\n",
       "      <td>632.0</td>\n",
       "    </tr>\n",
       "    <tr>\n",
       "      <th>William Shakespeare</th>\n",
       "      <td>8.303357</td>\n",
       "      <td>567.0</td>\n",
       "    </tr>\n",
       "    <tr>\n",
       "      <th>Stephen King</th>\n",
       "      <td>7.815046</td>\n",
       "      <td>524.0</td>\n",
       "    </tr>\n",
       "    <tr>\n",
       "      <th>Ann M. Martin</th>\n",
       "      <td>6.708333</td>\n",
       "      <td>423.0</td>\n",
       "    </tr>\n",
       "    <tr>\n",
       "      <th>Carolyn Keene</th>\n",
       "      <td>7.823529</td>\n",
       "      <td>373.0</td>\n",
       "    </tr>\n",
       "    <tr>\n",
       "      <th>Francine Pascal</th>\n",
       "      <td>6.659091</td>\n",
       "      <td>372.0</td>\n",
       "    </tr>\n",
       "    <tr>\n",
       "      <th>Isaac Asimov</th>\n",
       "      <td>7.915167</td>\n",
       "      <td>330.0</td>\n",
       "    </tr>\n",
       "    <tr>\n",
       "      <th>Nora Roberts</th>\n",
       "      <td>7.629680</td>\n",
       "      <td>315.0</td>\n",
       "    </tr>\n",
       "    <tr>\n",
       "      <th>Barbara Cartland</th>\n",
       "      <td>5.041812</td>\n",
       "      <td>307.0</td>\n",
       "    </tr>\n",
       "    <tr>\n",
       "      <th>Charles Dickens</th>\n",
       "      <td>7.762836</td>\n",
       "      <td>302.0</td>\n",
       "    </tr>\n",
       "    <tr>\n",
       "      <th>Not Applicable (Na )</th>\n",
       "      <td>8.094340</td>\n",
       "      <td>286.0</td>\n",
       "    </tr>\n",
       "    <tr>\n",
       "      <th>R. L. Stine</th>\n",
       "      <td>6.859259</td>\n",
       "      <td>282.0</td>\n",
       "    </tr>\n",
       "    <tr>\n",
       "      <th>Mark Twain</th>\n",
       "      <td>8.284507</td>\n",
       "      <td>231.0</td>\n",
       "    </tr>\n",
       "    <tr>\n",
       "      <th>Jane Austen</th>\n",
       "      <td>8.187595</td>\n",
       "      <td>223.0</td>\n",
       "    </tr>\n",
       "    <tr>\n",
       "      <th>Terry Pratchett</th>\n",
       "      <td>8.151177</td>\n",
       "      <td>220.0</td>\n",
       "    </tr>\n",
       "    <tr>\n",
       "      <th>Mary Higgins Clark</th>\n",
       "      <td>7.503280</td>\n",
       "      <td>218.0</td>\n",
       "    </tr>\n",
       "    <tr>\n",
       "      <th>Piers Anthony</th>\n",
       "      <td>7.642570</td>\n",
       "      <td>217.0</td>\n",
       "    </tr>\n",
       "    <tr>\n",
       "      <th>Marion Zimmer Bradley</th>\n",
       "      <td>7.635371</td>\n",
       "      <td>216.0</td>\n",
       "    </tr>\n",
       "    <tr>\n",
       "      <th>Janet Dailey</th>\n",
       "      <td>7.371429</td>\n",
       "      <td>214.0</td>\n",
       "    </tr>\n",
       "    <tr>\n",
       "      <th>Franklin W. Dixon</th>\n",
       "      <td>7.038462</td>\n",
       "      <td>204.0</td>\n",
       "    </tr>\n",
       "  </tbody>\n",
       "</table>\n",
       "</div>"
      ],
      "text/plain": [
       "                       Book-Rating  total_books_written\n",
       "author                                                 \n",
       "Agatha Christie           7.792102                632.0\n",
       "William Shakespeare       8.303357                567.0\n",
       "Stephen King              7.815046                524.0\n",
       "Ann M. Martin             6.708333                423.0\n",
       "Carolyn Keene             7.823529                373.0\n",
       "Francine Pascal           6.659091                372.0\n",
       "Isaac Asimov              7.915167                330.0\n",
       "Nora Roberts              7.629680                315.0\n",
       "Barbara Cartland          5.041812                307.0\n",
       "Charles Dickens           7.762836                302.0\n",
       "Not Applicable (Na )      8.094340                286.0\n",
       "R. L. Stine               6.859259                282.0\n",
       "Mark Twain                8.284507                231.0\n",
       "Jane Austen               8.187595                223.0\n",
       "Terry Pratchett           8.151177                220.0\n",
       "Mary Higgins Clark        7.503280                218.0\n",
       "Piers Anthony             7.642570                217.0\n",
       "Marion Zimmer Bradley     7.635371                216.0\n",
       "Janet Dailey              7.371429                214.0\n",
       "Franklin W. Dixon         7.038462                204.0"
      ]
     },
     "execution_count": 33,
     "metadata": {},
     "output_type": "execute_result"
    }
   ],
   "source": [
    "dataset.dropna()[['author', 'Book-Rating', 'total_books_written']].groupby('author').mean().sort_values(['total_books_written', 'Book-Rating'], ascending = False).iloc[:20, :]"
   ]
  },
  {
   "cell_type": "markdown",
   "metadata": {},
   "source": [
    "## Number of Books Published by the Publishers (Descencing Order) (Top 10)"
   ]
  },
  {
   "cell_type": "code",
   "execution_count": 34,
   "metadata": {},
   "outputs": [
    {
     "data": {
      "text/html": [
       "<div>\n",
       "<style scoped>\n",
       "    .dataframe tbody tr th:only-of-type {\n",
       "        vertical-align: middle;\n",
       "    }\n",
       "\n",
       "    .dataframe tbody tr th {\n",
       "        vertical-align: top;\n",
       "    }\n",
       "\n",
       "    .dataframe thead th {\n",
       "        text-align: right;\n",
       "    }\n",
       "</style>\n",
       "<table border=\"1\" class=\"dataframe\">\n",
       "  <thead>\n",
       "    <tr style=\"text-align: right;\">\n",
       "      <th></th>\n",
       "      <th>Book-Rating</th>\n",
       "      <th>total_books_published</th>\n",
       "    </tr>\n",
       "    <tr>\n",
       "      <th>publisher</th>\n",
       "      <th></th>\n",
       "      <th></th>\n",
       "    </tr>\n",
       "  </thead>\n",
       "  <tbody>\n",
       "    <tr>\n",
       "      <th>Harlequin</th>\n",
       "      <td>7.170115</td>\n",
       "      <td>7535.0</td>\n",
       "    </tr>\n",
       "    <tr>\n",
       "      <th>Silhouette</th>\n",
       "      <td>7.239616</td>\n",
       "      <td>4220.0</td>\n",
       "    </tr>\n",
       "    <tr>\n",
       "      <th>Pocket</th>\n",
       "      <td>7.565354</td>\n",
       "      <td>3905.0</td>\n",
       "    </tr>\n",
       "    <tr>\n",
       "      <th>Ballantine Books</th>\n",
       "      <td>7.610437</td>\n",
       "      <td>3783.0</td>\n",
       "    </tr>\n",
       "    <tr>\n",
       "      <th>Bantam Books</th>\n",
       "      <td>7.520811</td>\n",
       "      <td>3646.0</td>\n",
       "    </tr>\n",
       "    <tr>\n",
       "      <th>Scholastic</th>\n",
       "      <td>7.818161</td>\n",
       "      <td>3160.0</td>\n",
       "    </tr>\n",
       "    <tr>\n",
       "      <th>Simon &amp;amp; Schuster</th>\n",
       "      <td>7.522894</td>\n",
       "      <td>2971.0</td>\n",
       "    </tr>\n",
       "    <tr>\n",
       "      <th>Penguin Books</th>\n",
       "      <td>7.772837</td>\n",
       "      <td>2844.0</td>\n",
       "    </tr>\n",
       "    <tr>\n",
       "      <th>Berkley Publishing Group</th>\n",
       "      <td>7.443836</td>\n",
       "      <td>2771.0</td>\n",
       "    </tr>\n",
       "    <tr>\n",
       "      <th>Warner Books</th>\n",
       "      <td>7.543300</td>\n",
       "      <td>2727.0</td>\n",
       "    </tr>\n",
       "    <tr>\n",
       "      <th>Penguin USA</th>\n",
       "      <td>7.481596</td>\n",
       "      <td>2717.0</td>\n",
       "    </tr>\n",
       "    <tr>\n",
       "      <th>Harpercollins</th>\n",
       "      <td>7.449576</td>\n",
       "      <td>2525.0</td>\n",
       "    </tr>\n",
       "    <tr>\n",
       "      <th>Fawcett Books</th>\n",
       "      <td>7.477845</td>\n",
       "      <td>2258.0</td>\n",
       "    </tr>\n",
       "    <tr>\n",
       "      <th>Signet Book</th>\n",
       "      <td>7.591292</td>\n",
       "      <td>2070.0</td>\n",
       "    </tr>\n",
       "    <tr>\n",
       "      <th>Random House Inc</th>\n",
       "      <td>7.364574</td>\n",
       "      <td>2045.0</td>\n",
       "    </tr>\n",
       "    <tr>\n",
       "      <th>St Martins Pr</th>\n",
       "      <td>7.264090</td>\n",
       "      <td>1953.0</td>\n",
       "    </tr>\n",
       "    <tr>\n",
       "      <th>St. Martin's Press</th>\n",
       "      <td>7.596522</td>\n",
       "      <td>1783.0</td>\n",
       "    </tr>\n",
       "    <tr>\n",
       "      <th>Tor Books</th>\n",
       "      <td>7.686075</td>\n",
       "      <td>1704.0</td>\n",
       "    </tr>\n",
       "    <tr>\n",
       "      <th>HarperCollins Publishers</th>\n",
       "      <td>7.584115</td>\n",
       "      <td>1700.0</td>\n",
       "    </tr>\n",
       "    <tr>\n",
       "      <th>Zebra Books</th>\n",
       "      <td>7.089198</td>\n",
       "      <td>1694.0</td>\n",
       "    </tr>\n",
       "  </tbody>\n",
       "</table>\n",
       "</div>"
      ],
      "text/plain": [
       "                          Book-Rating  total_books_published\n",
       "publisher                                                   \n",
       "Harlequin                    7.170115                 7535.0\n",
       "Silhouette                   7.239616                 4220.0\n",
       "Pocket                       7.565354                 3905.0\n",
       "Ballantine Books             7.610437                 3783.0\n",
       "Bantam Books                 7.520811                 3646.0\n",
       "Scholastic                   7.818161                 3160.0\n",
       "Simon &amp; Schuster         7.522894                 2971.0\n",
       "Penguin Books                7.772837                 2844.0\n",
       "Berkley Publishing Group     7.443836                 2771.0\n",
       "Warner Books                 7.543300                 2727.0\n",
       "Penguin USA                  7.481596                 2717.0\n",
       "Harpercollins                7.449576                 2525.0\n",
       "Fawcett Books                7.477845                 2258.0\n",
       "Signet Book                  7.591292                 2070.0\n",
       "Random House Inc             7.364574                 2045.0\n",
       "St Martins Pr                7.264090                 1953.0\n",
       "St. Martin's Press           7.596522                 1783.0\n",
       "Tor Books                    7.686075                 1704.0\n",
       "HarperCollins Publishers     7.584115                 1700.0\n",
       "Zebra Books                  7.089198                 1694.0"
      ]
     },
     "execution_count": 34,
     "metadata": {},
     "output_type": "execute_result"
    }
   ],
   "source": [
    "dataset.dropna()[['publisher', 'Book-Rating', 'total_books_published']].groupby('publisher').mean().sort_values(['total_books_published', 'Book-Rating'], ascending = False).iloc[:20, :]"
   ]
  },
  {
   "cell_type": "markdown",
   "metadata": {},
   "source": [
    "# Importing The User Dataset"
   ]
  },
  {
   "cell_type": "code",
   "execution_count": 35,
   "metadata": {},
   "outputs": [],
   "source": [
    "users_data = pd.read_csv('BX-Users.csv', error_bad_lines=False, sep=';', encoding = 'latin-1')"
   ]
  },
  {
   "cell_type": "markdown",
   "metadata": {},
   "source": [
    "## Merging it with the existing dataset"
   ]
  },
  {
   "cell_type": "code",
   "execution_count": 36,
   "metadata": {},
   "outputs": [],
   "source": [
    "dataset = dataset.merge(users_data, on = 'User-ID')"
   ]
  },
  {
   "cell_type": "code",
   "execution_count": 37,
   "metadata": {},
   "outputs": [
    {
     "data": {
      "text/html": [
       "<div>\n",
       "<style scoped>\n",
       "    .dataframe tbody tr th:only-of-type {\n",
       "        vertical-align: middle;\n",
       "    }\n",
       "\n",
       "    .dataframe tbody tr th {\n",
       "        vertical-align: top;\n",
       "    }\n",
       "\n",
       "    .dataframe thead th {\n",
       "        text-align: right;\n",
       "    }\n",
       "</style>\n",
       "<table border=\"1\" class=\"dataframe\">\n",
       "  <thead>\n",
       "    <tr style=\"text-align: right;\">\n",
       "      <th></th>\n",
       "      <th>User-ID</th>\n",
       "      <th>ISBN</th>\n",
       "      <th>Book-Rating</th>\n",
       "      <th>book-title</th>\n",
       "      <th>author</th>\n",
       "      <th>year-of-publication</th>\n",
       "      <th>publisher</th>\n",
       "      <th>total_books_written</th>\n",
       "      <th>total_books_published</th>\n",
       "      <th>Location</th>\n",
       "      <th>Age</th>\n",
       "    </tr>\n",
       "  </thead>\n",
       "  <tbody>\n",
       "    <tr>\n",
       "      <th>0</th>\n",
       "      <td>276725</td>\n",
       "      <td>034545104X</td>\n",
       "      <td>NaN</td>\n",
       "      <td>Flesh Tones: A Novel</td>\n",
       "      <td>M. J. Rose</td>\n",
       "      <td>2002</td>\n",
       "      <td>Ballantine Books</td>\n",
       "      <td>3.0</td>\n",
       "      <td>3783.0</td>\n",
       "      <td>tyler, texas, usa</td>\n",
       "      <td>NaN</td>\n",
       "    </tr>\n",
       "    <tr>\n",
       "      <th>1</th>\n",
       "      <td>2313</td>\n",
       "      <td>034545104X</td>\n",
       "      <td>5.0</td>\n",
       "      <td>Flesh Tones: A Novel</td>\n",
       "      <td>M. J. Rose</td>\n",
       "      <td>2002</td>\n",
       "      <td>Ballantine Books</td>\n",
       "      <td>3.0</td>\n",
       "      <td>3783.0</td>\n",
       "      <td>cincinnati, ohio, usa</td>\n",
       "      <td>23.0</td>\n",
       "    </tr>\n",
       "    <tr>\n",
       "      <th>2</th>\n",
       "      <td>2313</td>\n",
       "      <td>0812533550</td>\n",
       "      <td>9.0</td>\n",
       "      <td>Ender's Game (Ender Wiggins Saga (Paperback))</td>\n",
       "      <td>Orson Scott Card</td>\n",
       "      <td>1986</td>\n",
       "      <td>Tor Books</td>\n",
       "      <td>130.0</td>\n",
       "      <td>1704.0</td>\n",
       "      <td>cincinnati, ohio, usa</td>\n",
       "      <td>23.0</td>\n",
       "    </tr>\n",
       "    <tr>\n",
       "      <th>3</th>\n",
       "      <td>2313</td>\n",
       "      <td>0679745580</td>\n",
       "      <td>8.0</td>\n",
       "      <td>In Cold Blood (Vintage International)</td>\n",
       "      <td>TRUMAN CAPOTE</td>\n",
       "      <td>1994</td>\n",
       "      <td>Vintage</td>\n",
       "      <td>4.0</td>\n",
       "      <td>437.0</td>\n",
       "      <td>cincinnati, ohio, usa</td>\n",
       "      <td>23.0</td>\n",
       "    </tr>\n",
       "    <tr>\n",
       "      <th>4</th>\n",
       "      <td>2313</td>\n",
       "      <td>0060173289</td>\n",
       "      <td>9.0</td>\n",
       "      <td>Divine Secrets of the Ya-Ya Sisterhood : A Novel</td>\n",
       "      <td>Rebecca Wells</td>\n",
       "      <td>1996</td>\n",
       "      <td>HarperCollins</td>\n",
       "      <td>21.0</td>\n",
       "      <td>845.0</td>\n",
       "      <td>cincinnati, ohio, usa</td>\n",
       "      <td>23.0</td>\n",
       "    </tr>\n",
       "  </tbody>\n",
       "</table>\n",
       "</div>"
      ],
      "text/plain": [
       "   User-ID        ISBN  Book-Rating  \\\n",
       "0   276725  034545104X          NaN   \n",
       "1     2313  034545104X          5.0   \n",
       "2     2313  0812533550          9.0   \n",
       "3     2313  0679745580          8.0   \n",
       "4     2313  0060173289          9.0   \n",
       "\n",
       "                                         book-title            author  \\\n",
       "0                              Flesh Tones: A Novel        M. J. Rose   \n",
       "1                              Flesh Tones: A Novel        M. J. Rose   \n",
       "2     Ender's Game (Ender Wiggins Saga (Paperback))  Orson Scott Card   \n",
       "3             In Cold Blood (Vintage International)     TRUMAN CAPOTE   \n",
       "4  Divine Secrets of the Ya-Ya Sisterhood : A Novel     Rebecca Wells   \n",
       "\n",
       "  year-of-publication         publisher  total_books_written  \\\n",
       "0                2002  Ballantine Books                  3.0   \n",
       "1                2002  Ballantine Books                  3.0   \n",
       "2                1986         Tor Books                130.0   \n",
       "3                1994           Vintage                  4.0   \n",
       "4                1996     HarperCollins                 21.0   \n",
       "\n",
       "   total_books_published               Location   Age  \n",
       "0                 3783.0      tyler, texas, usa   NaN  \n",
       "1                 3783.0  cincinnati, ohio, usa  23.0  \n",
       "2                 1704.0  cincinnati, ohio, usa  23.0  \n",
       "3                  437.0  cincinnati, ohio, usa  23.0  \n",
       "4                  845.0  cincinnati, ohio, usa  23.0  "
      ]
     },
     "execution_count": 37,
     "metadata": {},
     "output_type": "execute_result"
    }
   ],
   "source": [
    "dataset.head()"
   ]
  },
  {
   "cell_type": "markdown",
   "metadata": {},
   "source": [
    "## Average Age of the User of each Rating\n",
    "I know it's silly"
   ]
  },
  {
   "cell_type": "code",
   "execution_count": 37,
   "metadata": {},
   "outputs": [
    {
     "data": {
      "text/html": [
       "<div>\n",
       "<style scoped>\n",
       "    .dataframe tbody tr th:only-of-type {\n",
       "        vertical-align: middle;\n",
       "    }\n",
       "\n",
       "    .dataframe tbody tr th {\n",
       "        vertical-align: top;\n",
       "    }\n",
       "\n",
       "    .dataframe thead th {\n",
       "        text-align: right;\n",
       "    }\n",
       "</style>\n",
       "<table border=\"1\" class=\"dataframe\">\n",
       "  <thead>\n",
       "    <tr style=\"text-align: right;\">\n",
       "      <th></th>\n",
       "      <th>Age</th>\n",
       "    </tr>\n",
       "    <tr>\n",
       "      <th>Book-Rating</th>\n",
       "      <th></th>\n",
       "    </tr>\n",
       "  </thead>\n",
       "  <tbody>\n",
       "    <tr>\n",
       "      <th>1.0</th>\n",
       "      <td>33.699774</td>\n",
       "    </tr>\n",
       "    <tr>\n",
       "      <th>2.0</th>\n",
       "      <td>34.544174</td>\n",
       "    </tr>\n",
       "    <tr>\n",
       "      <th>3.0</th>\n",
       "      <td>35.401381</td>\n",
       "    </tr>\n",
       "    <tr>\n",
       "      <th>4.0</th>\n",
       "      <td>35.815934</td>\n",
       "    </tr>\n",
       "    <tr>\n",
       "      <th>5.0</th>\n",
       "      <td>36.914035</td>\n",
       "    </tr>\n",
       "    <tr>\n",
       "      <th>6.0</th>\n",
       "      <td>36.157006</td>\n",
       "    </tr>\n",
       "    <tr>\n",
       "      <th>7.0</th>\n",
       "      <td>36.453457</td>\n",
       "    </tr>\n",
       "    <tr>\n",
       "      <th>8.0</th>\n",
       "      <td>37.265627</td>\n",
       "    </tr>\n",
       "    <tr>\n",
       "      <th>9.0</th>\n",
       "      <td>37.424366</td>\n",
       "    </tr>\n",
       "    <tr>\n",
       "      <th>10.0</th>\n",
       "      <td>36.680867</td>\n",
       "    </tr>\n",
       "  </tbody>\n",
       "</table>\n",
       "</div>"
      ],
      "text/plain": [
       "                   Age\n",
       "Book-Rating           \n",
       "1.0          33.699774\n",
       "2.0          34.544174\n",
       "3.0          35.401381\n",
       "4.0          35.815934\n",
       "5.0          36.914035\n",
       "6.0          36.157006\n",
       "7.0          36.453457\n",
       "8.0          37.265627\n",
       "9.0          37.424366\n",
       "10.0         36.680867"
      ]
     },
     "execution_count": 37,
     "metadata": {},
     "output_type": "execute_result"
    }
   ],
   "source": [
    "dataset[['Age', 'Book-Rating']].groupby('Book-Rating').mean()"
   ]
  },
  {
   "cell_type": "code",
   "execution_count": 38,
   "metadata": {},
   "outputs": [],
   "source": [
    "dataset['age-group'] = pd.qcut(dataset['Age'], 10)"
   ]
  },
  {
   "cell_type": "code",
   "execution_count": 39,
   "metadata": {},
   "outputs": [
    {
     "data": {
      "text/html": [
       "<div>\n",
       "<style scoped>\n",
       "    .dataframe tbody tr th:only-of-type {\n",
       "        vertical-align: middle;\n",
       "    }\n",
       "\n",
       "    .dataframe tbody tr th {\n",
       "        vertical-align: top;\n",
       "    }\n",
       "\n",
       "    .dataframe thead th {\n",
       "        text-align: right;\n",
       "    }\n",
       "</style>\n",
       "<table border=\"1\" class=\"dataframe\">\n",
       "  <thead>\n",
       "    <tr style=\"text-align: right;\">\n",
       "      <th></th>\n",
       "      <th>book-title</th>\n",
       "    </tr>\n",
       "    <tr>\n",
       "      <th>age-group</th>\n",
       "      <th></th>\n",
       "    </tr>\n",
       "  </thead>\n",
       "  <tbody>\n",
       "    <tr>\n",
       "      <th>(-0.001, 23.0]</th>\n",
       "      <td>Wild Animus</td>\n",
       "    </tr>\n",
       "    <tr>\n",
       "      <th>(23.0, 27.0]</th>\n",
       "      <td>Wild Animus</td>\n",
       "    </tr>\n",
       "    <tr>\n",
       "      <th>(27.0, 30.0]</th>\n",
       "      <td>Wild Animus</td>\n",
       "    </tr>\n",
       "    <tr>\n",
       "      <th>(30.0, 32.0]</th>\n",
       "      <td>Wild Animus</td>\n",
       "    </tr>\n",
       "    <tr>\n",
       "      <th>(32.0, 35.0]</th>\n",
       "      <td>Wild Animus</td>\n",
       "    </tr>\n",
       "    <tr>\n",
       "      <th>(35.0, 38.0]</th>\n",
       "      <td>Wild Animus</td>\n",
       "    </tr>\n",
       "    <tr>\n",
       "      <th>(38.0, 43.0]</th>\n",
       "      <td>Wild Animus</td>\n",
       "    </tr>\n",
       "    <tr>\n",
       "      <th>(43.0, 48.0]</th>\n",
       "      <td>Wild Animus</td>\n",
       "    </tr>\n",
       "    <tr>\n",
       "      <th>(48.0, 54.0]</th>\n",
       "      <td>Wild Animus</td>\n",
       "    </tr>\n",
       "    <tr>\n",
       "      <th>(54.0, 244.0]</th>\n",
       "      <td>Wild Animus</td>\n",
       "    </tr>\n",
       "  </tbody>\n",
       "</table>\n",
       "</div>"
      ],
      "text/plain": [
       "                 book-title\n",
       "age-group                  \n",
       "(-0.001, 23.0]  Wild Animus\n",
       "(23.0, 27.0]    Wild Animus\n",
       "(27.0, 30.0]    Wild Animus\n",
       "(30.0, 32.0]    Wild Animus\n",
       "(32.0, 35.0]    Wild Animus\n",
       "(35.0, 38.0]    Wild Animus\n",
       "(38.0, 43.0]    Wild Animus\n",
       "(43.0, 48.0]    Wild Animus\n",
       "(48.0, 54.0]    Wild Animus\n",
       "(54.0, 244.0]   Wild Animus"
      ]
     },
     "execution_count": 39,
     "metadata": {},
     "output_type": "execute_result"
    }
   ],
   "source": [
    "dataset[['age-group','book-title']].groupby('age-group').agg(lambda x:x.value_counts().index[0])"
   ]
  },
  {
   "cell_type": "code",
   "execution_count": 40,
   "metadata": {},
   "outputs": [],
   "source": [
    "del dataset['age-group']"
   ]
  },
  {
   "cell_type": "code",
   "execution_count": 41,
   "metadata": {},
   "outputs": [
    {
     "data": {
      "text/plain": [
       "<matplotlib.axes._subplots.AxesSubplot at 0x7fd95533bcc0>"
      ]
     },
     "execution_count": 41,
     "metadata": {},
     "output_type": "execute_result"
    },
    {
     "data": {
      "image/png": "[encoded data removed]",
      "text/plain": [
       "<Figure size 432x288 with 1 Axes>"
      ]
     },
     "metadata": {},
     "output_type": "display_data"
    }
   ],
   "source": [
    "dataset['Location'].value_counts()[:10].plot(kind = 'bar')"
   ]
  },
  {
   "cell_type": "code",
   "execution_count": 42,
   "metadata": {
    "scrolled": true
   },
   "outputs": [
    {
     "data": {
      "text/html": [
       "<div>\n",
       "<style scoped>\n",
       "    .dataframe tbody tr th:only-of-type {\n",
       "        vertical-align: middle;\n",
       "    }\n",
       "\n",
       "    .dataframe tbody tr th {\n",
       "        vertical-align: top;\n",
       "    }\n",
       "\n",
       "    .dataframe thead th {\n",
       "        text-align: right;\n",
       "    }\n",
       "</style>\n",
       "<table border=\"1\" class=\"dataframe\">\n",
       "  <thead>\n",
       "    <tr style=\"text-align: right;\">\n",
       "      <th></th>\n",
       "      <th>book-title</th>\n",
       "    </tr>\n",
       "    <tr>\n",
       "      <th>Location</th>\n",
       "      <th></th>\n",
       "    </tr>\n",
       "  </thead>\n",
       "  <tbody>\n",
       "    <tr>\n",
       "      <th>&amp;#304;stanbul, n/a, turkey</th>\n",
       "      <td>I'm a Stranger Here Myself : Notes on Returnin...</td>\n",
       "    </tr>\n",
       "    <tr>\n",
       "      <th>&amp;#321;ód&amp;#378;, &amp;#322;ódzkie, poland</th>\n",
       "      <td>Wild Animus</td>\n",
       "    </tr>\n",
       "    <tr>\n",
       "      <th>&amp;#321;ód&amp;#378;, n/a, poland</th>\n",
       "      <td>Nowe opowiadania</td>\n",
       "    </tr>\n",
       "    <tr>\n",
       "      <th>&amp;#321;ód&amp;#380;, &amp;#322;ódzkie, poland</th>\n",
       "      <td>Bezpowrotnie utracona leworecznosc</td>\n",
       "    </tr>\n",
       "    <tr>\n",
       "      <th>&amp;#36149;&amp;#28207;, &amp;#24191;&amp;#35199;, china</th>\n",
       "      <td>Brighton Rock (Essential.penguin S.)</td>\n",
       "    </tr>\n",
       "    <tr>\n",
       "      <th>***********, illinois, usa</th>\n",
       "      <td>Making Minty Malone</td>\n",
       "    </tr>\n",
       "    <tr>\n",
       "      <th>*, virginia, usa</th>\n",
       "      <td>Finding Your Roots</td>\n",
       "    </tr>\n",
       "    <tr>\n",
       "      <th>, ,</th>\n",
       "      <td>House of Sand and Fog</td>\n",
       "    </tr>\n",
       "    <tr>\n",
       "      <th>, , belize</th>\n",
       "      <td>The Summons</td>\n",
       "    </tr>\n",
       "    <tr>\n",
       "      <th>, , canada</th>\n",
       "      <td>The Summons</td>\n",
       "    </tr>\n",
       "    <tr>\n",
       "      <th>, , germany</th>\n",
       "      <td>Night Train</td>\n",
       "    </tr>\n",
       "    <tr>\n",
       "      <th>, , luxembourg</th>\n",
       "      <td>Specters of the Dawn (Daw collectors no. 959 )</td>\n",
       "    </tr>\n",
       "    <tr>\n",
       "      <th>, , norway</th>\n",
       "      <td>Monster : A Novel (Alex Delaware Novels (Paper...</td>\n",
       "    </tr>\n",
       "    <tr>\n",
       "      <th>, , singapore</th>\n",
       "      <td>Charlotte Gray</td>\n",
       "    </tr>\n",
       "    <tr>\n",
       "      <th>, , the great white north</th>\n",
       "      <td>Arthur Rocks with Binky</td>\n",
       "    </tr>\n",
       "    <tr>\n",
       "      <th>, , usa</th>\n",
       "      <td>Perfidia: A Novel</td>\n",
       "    </tr>\n",
       "    <tr>\n",
       "      <th>, herts, united kingdom</th>\n",
       "      <td>Time's Eye (A Time Odyssey, Book 1)</td>\n",
       "    </tr>\n",
       "    <tr>\n",
       "      <th>, illinois, usa</th>\n",
       "      <td>Business @ the Speed of Thought : Using a Digi...</td>\n",
       "    </tr>\n",
       "    <tr>\n",
       "      <th>, massachusetts, usa</th>\n",
       "      <td>Looking Glass</td>\n",
       "    </tr>\n",
       "    <tr>\n",
       "      <th>, new hampshire, usa</th>\n",
       "      <td>Batman: The Official Book of the Movie</td>\n",
       "    </tr>\n",
       "    <tr>\n",
       "      <th>, ontario, canada</th>\n",
       "      <td>The Right Hand of Evil</td>\n",
       "    </tr>\n",
       "    <tr>\n",
       "      <th>, pas de calais, france</th>\n",
       "      <td>L'Homme aux cercles bleus</td>\n",
       "    </tr>\n",
       "    <tr>\n",
       "      <th>, usa,</th>\n",
       "      <td>The 20th Century Art Book</td>\n",
       "    </tr>\n",
       "    <tr>\n",
       "      <th>-, british columbia, canada</th>\n",
       "      <td>The Runaway Jury</td>\n",
       "    </tr>\n",
       "    <tr>\n",
       "      <th>-, england, united kingdom</th>\n",
       "      <td>Strange meeting</td>\n",
       "    </tr>\n",
       "    <tr>\n",
       "      <th>-, ile de france, france</th>\n",
       "      <td>Jeux interdits</td>\n",
       "    </tr>\n",
       "    <tr>\n",
       "      <th>-, n/a, ireland</th>\n",
       "      <td>The Murphy: A Novel</td>\n",
       "    </tr>\n",
       "    <tr>\n",
       "      <th>-, north yorkshire, united kingdom</th>\n",
       "      <td>Requiem for a Dream</td>\n",
       "    </tr>\n",
       "    <tr>\n",
       "      <th>-, st andrew`s, guernsey, channel islands</th>\n",
       "      <td>Signor Marconi's Magic Box: How an Amateur Inv...</td>\n",
       "    </tr>\n",
       "    <tr>\n",
       "      <th>-, upper austria, austria</th>\n",
       "      <td>INTO THE DARK FEAR STREET 50</td>\n",
       "    </tr>\n",
       "    <tr>\n",
       "      <th>...</th>\n",
       "      <td>...</td>\n",
       "    </tr>\n",
       "    <tr>\n",
       "      <th>zwolle, overijssel, netherlands</th>\n",
       "      <td>Straight Man</td>\n",
       "    </tr>\n",
       "    <tr>\n",
       "      <th>zürich, -, switzerland</th>\n",
       "      <td>Liebediener.</td>\n",
       "    </tr>\n",
       "    <tr>\n",
       "      <th>zürich, canton zurich, switzerland</th>\n",
       "      <td>Die Hauswaffe.</td>\n",
       "    </tr>\n",
       "    <tr>\n",
       "      <th>zürich, kanton zürich, switzerland</th>\n",
       "      <td>1984.</td>\n",
       "    </tr>\n",
       "    <tr>\n",
       "      <th>zürich, n/a, switzerland</th>\n",
       "      <td>Der Englishche Patient</td>\n",
       "    </tr>\n",
       "    <tr>\n",
       "      <th>zürich, zh, switzerland</th>\n",
       "      <td>Der blaue Siphon. ErzÃ?Â¤hlung.</td>\n",
       "    </tr>\n",
       "    <tr>\n",
       "      <th>zürich, zuerich, switzerland</th>\n",
       "      <td>Sag Mammi goodbye.</td>\n",
       "    </tr>\n",
       "    <tr>\n",
       "      <th>zürich, zurich, switzerland</th>\n",
       "      <td>NeununddreiÃ?Â?igneunzig / 39.90.</td>\n",
       "    </tr>\n",
       "    <tr>\n",
       "      <th>zürich, zürich, stadt, switzerland</th>\n",
       "      <td>AbgrÃ?Â¼ndig.</td>\n",
       "    </tr>\n",
       "    <tr>\n",
       "      <th>zürich, zürich, switzerland</th>\n",
       "      <td>Soloalbum.</td>\n",
       "    </tr>\n",
       "    <tr>\n",
       "      <th>~*~, massachusetts, usa</th>\n",
       "      <td>North by Night : A Story of the Underground Ra...</td>\n",
       "    </tr>\n",
       "    <tr>\n",
       "      <th>£ód&amp;#378;, woj. &amp;#322;ódzkie, poland</th>\n",
       "      <td>Trzy krÃ³tkie opowiadania</td>\n",
       "    </tr>\n",
       "    <tr>\n",
       "      <th>£ódÿ, mazowsze, poland</th>\n",
       "      <td>Imie Rozy: The Name of the Rose</td>\n",
       "    </tr>\n",
       "    <tr>\n",
       "      <th>¨paris, ile de france, france</th>\n",
       "      <td>Mary, Mary</td>\n",
       "    </tr>\n",
       "    <tr>\n",
       "      <th>águeda, aveiro, portugal</th>\n",
       "      <td>Staying on (Phoenix Fiction Series)</td>\n",
       "    </tr>\n",
       "    <tr>\n",
       "      <th>águeda, n/a, portugal</th>\n",
       "      <td>Harrison's Principles of Internal Medicine/1 V...</td>\n",
       "    </tr>\n",
       "    <tr>\n",
       "      <th>århus v, aarhus, denmark</th>\n",
       "      <td>Frida : A Biography of Frida Kahlo</td>\n",
       "    </tr>\n",
       "    <tr>\n",
       "      <th>århus v, n/a, denmark</th>\n",
       "      <td>Whispers</td>\n",
       "    </tr>\n",
       "    <tr>\n",
       "      <th>århus, jylland, denmark</th>\n",
       "      <td>The Last Camel Died at Noon (Amelia Peabody My...</td>\n",
       "    </tr>\n",
       "    <tr>\n",
       "      <th>århus, n/a, denmark</th>\n",
       "      <td>The Partner</td>\n",
       "    </tr>\n",
       "    <tr>\n",
       "      <th>århus, østjylland, denmark</th>\n",
       "      <td>The Vision: Reflections on the Way of the Soul...</td>\n",
       "    </tr>\n",
       "    <tr>\n",
       "      <th>él médano, santa cruz de tenerife, canary islands, spain</th>\n",
       "      <td>Animal Safari - Penguins</td>\n",
       "    </tr>\n",
       "    <tr>\n",
       "      <th>évora, alentejo, portugal</th>\n",
       "      <td>And Then I Became Gay: Young Mens Stories</td>\n",
       "    </tr>\n",
       "    <tr>\n",
       "      <th>óbidos, connecticut, portugal</th>\n",
       "      <td>Trial by Fire</td>\n",
       "    </tr>\n",
       "    <tr>\n",
       "      <th>öhringen, baden-wuerttemberg, germany</th>\n",
       "      <td>Picknick auf dem Eis.</td>\n",
       "    </tr>\n",
       "    <tr>\n",
       "      <th>öhringen, baden-württemberg, germany</th>\n",
       "      <td>Gegen Ende der Zeit.</td>\n",
       "    </tr>\n",
       "    <tr>\n",
       "      <th>örebro, n/a, sweden</th>\n",
       "      <td>No Longer at Ease</td>\n",
       "    </tr>\n",
       "    <tr>\n",
       "      <th>øverbygd, troms, norway</th>\n",
       "      <td>Blade Runner: (Do Androids Dream of Electric S...</td>\n",
       "    </tr>\n",
       "    <tr>\n",
       "      <th>überallstadt, bayern, germany</th>\n",
       "      <td>Lauf, Jane, lauf. Roman.</td>\n",
       "    </tr>\n",
       "    <tr>\n",
       "      <th>ýzmir, n/a, turkey</th>\n",
       "      <td>Tales from Shakespeare (Penguin Popular Classics)</td>\n",
       "    </tr>\n",
       "  </tbody>\n",
       "</table>\n",
       "<p>22480 rows × 1 columns</p>\n",
       "</div>"
      ],
      "text/plain": [
       "                                                                                           book-title\n",
       "Location                                                                                             \n",
       "&#304;stanbul, n/a, turkey                          I'm a Stranger Here Myself : Notes on Returnin...\n",
       "&#321;ód&#378;, &#322;ódzkie, poland                                                      Wild Animus\n",
       "&#321;ód&#378;, n/a, poland                                                          Nowe opowiadania\n",
       "&#321;ód&#380;, &#322;ódzkie, poland                               Bezpowrotnie utracona leworecznosc\n",
       "&#36149;&#28207;, &#24191;&#35199;, china                        Brighton Rock (Essential.penguin S.)\n",
       "***********, illinois, usa                                                        Making Minty Malone\n",
       "*, virginia, usa                                                                   Finding Your Roots\n",
       ", ,                                                                             House of Sand and Fog\n",
       ", , belize                                                                                The Summons\n",
       ", , canada                                                                                The Summons\n",
       ", , germany                                                                               Night Train\n",
       ", , luxembourg                                         Specters of the Dawn (Daw collectors no. 959 )\n",
       ", , norway                                          Monster : A Novel (Alex Delaware Novels (Paper...\n",
       ", , singapore                                                                          Charlotte Gray\n",
       ", , the great white north                                                     Arthur Rocks with Binky\n",
       ", , usa                                                                             Perfidia: A Novel\n",
       ", herts, united kingdom                                           Time's Eye (A Time Odyssey, Book 1)\n",
       ", illinois, usa                                     Business @ the Speed of Thought : Using a Digi...\n",
       ", massachusetts, usa                                                                    Looking Glass\n",
       ", new hampshire, usa                                           Batman: The Official Book of the Movie\n",
       ", ontario, canada                                                              The Right Hand of Evil\n",
       ", pas de calais, france                                                     L'Homme aux cercles bleus\n",
       ", usa,                                                                      The 20th Century Art Book\n",
       "-, british columbia, canada                                                          The Runaway Jury\n",
       "-, england, united kingdom                                                            Strange meeting\n",
       "-, ile de france, france                                                               Jeux interdits\n",
       "-, n/a, ireland                                                                   The Murphy: A Novel\n",
       "-, north yorkshire, united kingdom                                                Requiem for a Dream\n",
       "-, st andrew`s, guernsey, channel islands           Signor Marconi's Magic Box: How an Amateur Inv...\n",
       "-, upper austria, austria                                                INTO THE DARK FEAR STREET 50\n",
       "...                                                                                               ...\n",
       "zwolle, overijssel, netherlands                                                          Straight Man\n",
       "zürich, -, switzerland                                                                   Liebediener.\n",
       "zürich, canton zurich, switzerland                                                     Die Hauswaffe.\n",
       "zürich, kanton zürich, switzerland                                                              1984.\n",
       "zürich, n/a, switzerland                                                       Der Englishche Patient\n",
       "zürich, zh, switzerland                                               Der blaue Siphon. ErzÃ?Â¤hlung.\n",
       "zürich, zuerich, switzerland                                                       Sag Mammi goodbye.\n",
       "zürich, zurich, switzerland                                         NeununddreiÃ?Â?igneunzig / 39.90.\n",
       "zürich, zürich, stadt, switzerland                                                      AbgrÃ?Â¼ndig.\n",
       "zürich, zürich, switzerland                                                                Soloalbum.\n",
       "~*~, massachusetts, usa                             North by Night : A Story of the Underground Ra...\n",
       "£ód&#378;, woj. &#322;ódzkie, poland                                        Trzy krÃ³tkie opowiadania\n",
       "£ódÿ, mazowsze, poland                                                Imie Rozy: The Name of the Rose\n",
       "¨paris, ile de france, france                                                              Mary, Mary\n",
       "águeda, aveiro, portugal                                          Staying on (Phoenix Fiction Series)\n",
       "águeda, n/a, portugal                               Harrison's Principles of Internal Medicine/1 V...\n",
       "århus v, aarhus, denmark                                           Frida : A Biography of Frida Kahlo\n",
       "århus v, n/a, denmark                                                                        Whispers\n",
       "århus, jylland, denmark                             The Last Camel Died at Noon (Amelia Peabody My...\n",
       "århus, n/a, denmark                                                                       The Partner\n",
       "århus, østjylland, denmark                          The Vision: Reflections on the Way of the Soul...\n",
       "él médano, santa cruz de tenerife, canary islan...                           Animal Safari - Penguins\n",
       "évora, alentejo, portugal                                   And Then I Became Gay: Young Mens Stories\n",
       "óbidos, connecticut, portugal                                                           Trial by Fire\n",
       "öhringen, baden-wuerttemberg, germany                                           Picknick auf dem Eis.\n",
       "öhringen, baden-württemberg, germany                                             Gegen Ende der Zeit.\n",
       "örebro, n/a, sweden                                                                 No Longer at Ease\n",
       "øverbygd, troms, norway                             Blade Runner: (Do Androids Dream of Electric S...\n",
       "überallstadt, bayern, germany                                                Lauf, Jane, lauf. Roman.\n",
       "ýzmir, n/a, turkey                                  Tales from Shakespeare (Penguin Popular Classics)\n",
       "\n",
       "[22480 rows x 1 columns]"
      ]
     },
     "execution_count": 42,
     "metadata": {},
     "output_type": "execute_result"
    }
   ],
   "source": [
    "top_locations = dataset['Location'].value_counts()[:10]\n",
    "dataset[['Location', 'book-title']].groupby('Location').agg(lambda x: x.value_counts().index[0])"
   ]
  },
  {
   "cell_type": "code",
   "execution_count": 38,
   "metadata": {},
   "outputs": [
    {
     "data": {
      "text/html": [
       "<div>\n",
       "<style scoped>\n",
       "    .dataframe tbody tr th:only-of-type {\n",
       "        vertical-align: middle;\n",
       "    }\n",
       "\n",
       "    .dataframe tbody tr th {\n",
       "        vertical-align: top;\n",
       "    }\n",
       "\n",
       "    .dataframe thead th {\n",
       "        text-align: right;\n",
       "    }\n",
       "</style>\n",
       "<table border=\"1\" class=\"dataframe\">\n",
       "  <thead>\n",
       "    <tr style=\"text-align: right;\">\n",
       "      <th></th>\n",
       "      <th>User-ID</th>\n",
       "      <th>ISBN</th>\n",
       "      <th>Book-Rating</th>\n",
       "      <th>book-title</th>\n",
       "      <th>author</th>\n",
       "      <th>year-of-publication</th>\n",
       "      <th>publisher</th>\n",
       "      <th>total_books_written</th>\n",
       "      <th>total_books_published</th>\n",
       "      <th>Location</th>\n",
       "      <th>Age</th>\n",
       "    </tr>\n",
       "  </thead>\n",
       "  <tbody>\n",
       "    <tr>\n",
       "      <th>0</th>\n",
       "      <td>276725</td>\n",
       "      <td>034545104X</td>\n",
       "      <td>NaN</td>\n",
       "      <td>Flesh Tones: A Novel</td>\n",
       "      <td>M. J. Rose</td>\n",
       "      <td>2002</td>\n",
       "      <td>Ballantine Books</td>\n",
       "      <td>3.0</td>\n",
       "      <td>3783.0</td>\n",
       "      <td>tyler, texas, usa</td>\n",
       "      <td>NaN</td>\n",
       "    </tr>\n",
       "    <tr>\n",
       "      <th>1</th>\n",
       "      <td>2313</td>\n",
       "      <td>034545104X</td>\n",
       "      <td>5.0</td>\n",
       "      <td>Flesh Tones: A Novel</td>\n",
       "      <td>M. J. Rose</td>\n",
       "      <td>2002</td>\n",
       "      <td>Ballantine Books</td>\n",
       "      <td>3.0</td>\n",
       "      <td>3783.0</td>\n",
       "      <td>cincinnati, ohio, usa</td>\n",
       "      <td>23.0</td>\n",
       "    </tr>\n",
       "    <tr>\n",
       "      <th>2</th>\n",
       "      <td>2313</td>\n",
       "      <td>0812533550</td>\n",
       "      <td>9.0</td>\n",
       "      <td>Ender's Game (Ender Wiggins Saga (Paperback))</td>\n",
       "      <td>Orson Scott Card</td>\n",
       "      <td>1986</td>\n",
       "      <td>Tor Books</td>\n",
       "      <td>130.0</td>\n",
       "      <td>1704.0</td>\n",
       "      <td>cincinnati, ohio, usa</td>\n",
       "      <td>23.0</td>\n",
       "    </tr>\n",
       "    <tr>\n",
       "      <th>3</th>\n",
       "      <td>2313</td>\n",
       "      <td>0679745580</td>\n",
       "      <td>8.0</td>\n",
       "      <td>In Cold Blood (Vintage International)</td>\n",
       "      <td>TRUMAN CAPOTE</td>\n",
       "      <td>1994</td>\n",
       "      <td>Vintage</td>\n",
       "      <td>4.0</td>\n",
       "      <td>437.0</td>\n",
       "      <td>cincinnati, ohio, usa</td>\n",
       "      <td>23.0</td>\n",
       "    </tr>\n",
       "    <tr>\n",
       "      <th>4</th>\n",
       "      <td>2313</td>\n",
       "      <td>0060173289</td>\n",
       "      <td>9.0</td>\n",
       "      <td>Divine Secrets of the Ya-Ya Sisterhood : A Novel</td>\n",
       "      <td>Rebecca Wells</td>\n",
       "      <td>1996</td>\n",
       "      <td>HarperCollins</td>\n",
       "      <td>21.0</td>\n",
       "      <td>845.0</td>\n",
       "      <td>cincinnati, ohio, usa</td>\n",
       "      <td>23.0</td>\n",
       "    </tr>\n",
       "  </tbody>\n",
       "</table>\n",
       "</div>"
      ],
      "text/plain": [
       "   User-ID        ISBN  Book-Rating  \\\n",
       "0   276725  034545104X          NaN   \n",
       "1     2313  034545104X          5.0   \n",
       "2     2313  0812533550          9.0   \n",
       "3     2313  0679745580          8.0   \n",
       "4     2313  0060173289          9.0   \n",
       "\n",
       "                                         book-title            author  \\\n",
       "0                              Flesh Tones: A Novel        M. J. Rose   \n",
       "1                              Flesh Tones: A Novel        M. J. Rose   \n",
       "2     Ender's Game (Ender Wiggins Saga (Paperback))  Orson Scott Card   \n",
       "3             In Cold Blood (Vintage International)     TRUMAN CAPOTE   \n",
       "4  Divine Secrets of the Ya-Ya Sisterhood : A Novel     Rebecca Wells   \n",
       "\n",
       "  year-of-publication         publisher  total_books_written  \\\n",
       "0                2002  Ballantine Books                  3.0   \n",
       "1                2002  Ballantine Books                  3.0   \n",
       "2                1986         Tor Books                130.0   \n",
       "3                1994           Vintage                  4.0   \n",
       "4                1996     HarperCollins                 21.0   \n",
       "\n",
       "   total_books_published               Location   Age  \n",
       "0                 3783.0      tyler, texas, usa   NaN  \n",
       "1                 3783.0  cincinnati, ohio, usa  23.0  \n",
       "2                 1704.0  cincinnati, ohio, usa  23.0  \n",
       "3                  437.0  cincinnati, ohio, usa  23.0  \n",
       "4                  845.0  cincinnati, ohio, usa  23.0  "
      ]
     },
     "execution_count": 38,
     "metadata": {},
     "output_type": "execute_result"
    }
   ],
   "source": [
    "dataset.head()"
   ]
  },
  {
   "cell_type": "code",
   "execution_count": 39,
   "metadata": {},
   "outputs": [
    {
     "data": {
      "text/html": [
       "<div>\n",
       "<style scoped>\n",
       "    .dataframe tbody tr th:only-of-type {\n",
       "        vertical-align: middle;\n",
       "    }\n",
       "\n",
       "    .dataframe tbody tr th {\n",
       "        vertical-align: top;\n",
       "    }\n",
       "\n",
       "    .dataframe thead th {\n",
       "        text-align: right;\n",
       "    }\n",
       "</style>\n",
       "<table border=\"1\" class=\"dataframe\">\n",
       "  <thead>\n",
       "    <tr style=\"text-align: right;\">\n",
       "      <th></th>\n",
       "      <th>User-ID</th>\n",
       "      <th>ISBN</th>\n",
       "      <th>Book-Rating</th>\n",
       "      <th>book-title</th>\n",
       "      <th>author</th>\n",
       "      <th>year-of-publication</th>\n",
       "      <th>publisher</th>\n",
       "      <th>total_books_written</th>\n",
       "      <th>total_books_published</th>\n",
       "      <th>Location</th>\n",
       "      <th>Age</th>\n",
       "    </tr>\n",
       "  </thead>\n",
       "  <tbody>\n",
       "    <tr>\n",
       "      <th>0</th>\n",
       "      <td>276725</td>\n",
       "      <td>034545104X</td>\n",
       "      <td>NaN</td>\n",
       "      <td>Flesh Tones: A Novel</td>\n",
       "      <td>M. J. Rose</td>\n",
       "      <td>2002</td>\n",
       "      <td>Ballantine Books</td>\n",
       "      <td>3.0</td>\n",
       "      <td>3783.0</td>\n",
       "      <td>tyler, texas, usa</td>\n",
       "      <td>NaN</td>\n",
       "    </tr>\n",
       "    <tr>\n",
       "      <th>1</th>\n",
       "      <td>2313</td>\n",
       "      <td>034545104X</td>\n",
       "      <td>5.0</td>\n",
       "      <td>Flesh Tones: A Novel</td>\n",
       "      <td>M. J. Rose</td>\n",
       "      <td>2002</td>\n",
       "      <td>Ballantine Books</td>\n",
       "      <td>3.0</td>\n",
       "      <td>3783.0</td>\n",
       "      <td>cincinnati, ohio, usa</td>\n",
       "      <td>23.0</td>\n",
       "    </tr>\n",
       "    <tr>\n",
       "      <th>2</th>\n",
       "      <td>2313</td>\n",
       "      <td>0812533550</td>\n",
       "      <td>9.0</td>\n",
       "      <td>Ender's Game (Ender Wiggins Saga (Paperback))</td>\n",
       "      <td>Orson Scott Card</td>\n",
       "      <td>1986</td>\n",
       "      <td>Tor Books</td>\n",
       "      <td>130.0</td>\n",
       "      <td>1704.0</td>\n",
       "      <td>cincinnati, ohio, usa</td>\n",
       "      <td>23.0</td>\n",
       "    </tr>\n",
       "    <tr>\n",
       "      <th>3</th>\n",
       "      <td>2313</td>\n",
       "      <td>0679745580</td>\n",
       "      <td>8.0</td>\n",
       "      <td>In Cold Blood (Vintage International)</td>\n",
       "      <td>TRUMAN CAPOTE</td>\n",
       "      <td>1994</td>\n",
       "      <td>Vintage</td>\n",
       "      <td>4.0</td>\n",
       "      <td>437.0</td>\n",
       "      <td>cincinnati, ohio, usa</td>\n",
       "      <td>23.0</td>\n",
       "    </tr>\n",
       "    <tr>\n",
       "      <th>4</th>\n",
       "      <td>2313</td>\n",
       "      <td>0060173289</td>\n",
       "      <td>9.0</td>\n",
       "      <td>Divine Secrets of the Ya-Ya Sisterhood : A Novel</td>\n",
       "      <td>Rebecca Wells</td>\n",
       "      <td>1996</td>\n",
       "      <td>HarperCollins</td>\n",
       "      <td>21.0</td>\n",
       "      <td>845.0</td>\n",
       "      <td>cincinnati, ohio, usa</td>\n",
       "      <td>23.0</td>\n",
       "    </tr>\n",
       "  </tbody>\n",
       "</table>\n",
       "</div>"
      ],
      "text/plain": [
       "   User-ID        ISBN  Book-Rating  \\\n",
       "0   276725  034545104X          NaN   \n",
       "1     2313  034545104X          5.0   \n",
       "2     2313  0812533550          9.0   \n",
       "3     2313  0679745580          8.0   \n",
       "4     2313  0060173289          9.0   \n",
       "\n",
       "                                         book-title            author  \\\n",
       "0                              Flesh Tones: A Novel        M. J. Rose   \n",
       "1                              Flesh Tones: A Novel        M. J. Rose   \n",
       "2     Ender's Game (Ender Wiggins Saga (Paperback))  Orson Scott Card   \n",
       "3             In Cold Blood (Vintage International)     TRUMAN CAPOTE   \n",
       "4  Divine Secrets of the Ya-Ya Sisterhood : A Novel     Rebecca Wells   \n",
       "\n",
       "  year-of-publication         publisher  total_books_written  \\\n",
       "0                2002  Ballantine Books                  3.0   \n",
       "1                2002  Ballantine Books                  3.0   \n",
       "2                1986         Tor Books                130.0   \n",
       "3                1994           Vintage                  4.0   \n",
       "4                1996     HarperCollins                 21.0   \n",
       "\n",
       "   total_books_published               Location   Age  \n",
       "0                 3783.0      tyler, texas, usa   NaN  \n",
       "1                 3783.0  cincinnati, ohio, usa  23.0  \n",
       "2                 1704.0  cincinnati, ohio, usa  23.0  \n",
       "3                  437.0  cincinnati, ohio, usa  23.0  \n",
       "4                  845.0  cincinnati, ohio, usa  23.0  "
      ]
     },
     "execution_count": 39,
     "metadata": {},
     "output_type": "execute_result"
    }
   ],
   "source": [
    "dataset.head()"
   ]
  },
  {
   "cell_type": "code",
   "execution_count": 40,
   "metadata": {},
   "outputs": [],
   "source": [
    "dataset.to_pickle('dataset.pickle')"
   ]
  },
  {
   "cell_type": "code",
   "execution_count": null,
   "metadata": {},
   "outputs": [],
   "source": [
    "farzi_dataset = dataset.query('total')"
   ]
  },
  {
   "cell_type": "code",
   "execution_count": 45,
   "metadata": {},
   "outputs": [
    {
     "data": {
      "text/plain": [
       "User-ID                       0\n",
       "ISBN                          0\n",
       "Book-Rating              647294\n",
       "book-title                    0\n",
       "author                        1\n",
       "year-of-publication           0\n",
       "publisher                     2\n",
       "total_books_written           1\n",
       "total_books_published         2\n",
       "Location                      0\n",
       "Age                      277835\n",
       "dtype: int64"
      ]
     },
     "execution_count": 45,
     "metadata": {},
     "output_type": "execute_result"
    }
   ],
   "source": [
    "dataset.isnull().sum()"
   ]
  },
  {
   "cell_type": "code",
   "execution_count": 46,
   "metadata": {},
   "outputs": [
    {
     "name": "stdout",
     "output_type": "stream",
     "text": [
      "<class 'pandas.core.frame.DataFrame'>\n",
      "Int64Index: 1031136 entries, 0 to 1031135\n",
      "Data columns (total 11 columns):\n",
      "User-ID                  1031136 non-null int64\n",
      "ISBN                     1031136 non-null object\n",
      "Book-Rating              383842 non-null float64\n",
      "book-title               1031136 non-null object\n",
      "author                   1031135 non-null object\n",
      "year-of-publication      1031136 non-null object\n",
      "publisher                1031134 non-null object\n",
      "total_books_written      1031135 non-null float64\n",
      "total_books_published    1031134 non-null float64\n",
      "Location                 1031136 non-null object\n",
      "Age                      753301 non-null float64\n",
      "dtypes: float64(4), int64(1), object(6)\n",
      "memory usage: 134.4+ MB\n"
     ]
    }
   ],
   "source": [
    "dataset.info()"
   ]
  },
  {
   "cell_type": "code",
   "execution_count": 41,
   "metadata": {},
   "outputs": [],
   "source": [
    "dataset.dropna(axis = 0, subset = ['book-title'], inplace = True)"
   ]
  },
  {
   "cell_type": "code",
   "execution_count": 42,
   "metadata": {},
   "outputs": [
    {
     "name": "stdout",
     "output_type": "stream",
     "text": [
      "<class 'pandas.core.frame.DataFrame'>\n",
      "Int64Index: 1031136 entries, 0 to 1031135\n",
      "Data columns (total 11 columns):\n",
      "User-ID                  1031136 non-null int64\n",
      "ISBN                     1031136 non-null object\n",
      "Book-Rating              383842 non-null float64\n",
      "book-title               1031136 non-null object\n",
      "author                   1031135 non-null object\n",
      "year-of-publication      1031136 non-null object\n",
      "publisher                1031134 non-null object\n",
      "total_books_written      1027484 non-null float64\n",
      "total_books_published    1031134 non-null float64\n",
      "Location                 1031136 non-null object\n",
      "Age                      753301 non-null float64\n",
      "dtypes: float64(4), int64(1), object(6)\n",
      "memory usage: 94.4+ MB\n"
     ]
    }
   ],
   "source": [
    "dataset.info()"
   ]
  },
  {
   "cell_type": "code",
   "execution_count": 43,
   "metadata": {},
   "outputs": [],
   "source": [
    "a = pd.DataFrame(dataset['book-title'].value_counts().reset_index())\n",
    "a.columns = ['book-title', 'book-ratings-count']\n",
    "# a.rename_axis('book-title', axis = 'columns', inplace = True)"
   ]
  },
  {
   "cell_type": "code",
   "execution_count": 44,
   "metadata": {},
   "outputs": [
    {
     "name": "stdout",
     "output_type": "stream",
     "text": [
      "<class 'pandas.core.frame.DataFrame'>\n",
      "RangeIndex: 241071 entries, 0 to 241070\n",
      "Data columns (total 2 columns):\n",
      "book-title            241071 non-null object\n",
      "book-ratings-count    241071 non-null int64\n",
      "dtypes: int64(1), object(1)\n",
      "memory usage: 3.7+ MB\n"
     ]
    }
   ],
   "source": [
    "a.info()"
   ]
  },
  {
   "cell_type": "code",
   "execution_count": 45,
   "metadata": {},
   "outputs": [],
   "source": [
    "# a['book-title'] = list(a.axes[0])"
   ]
  },
  {
   "cell_type": "code",
   "execution_count": 46,
   "metadata": {},
   "outputs": [
    {
     "data": {
      "text/plain": [
       "60"
      ]
     },
     "execution_count": 46,
     "metadata": {},
     "output_type": "execute_result"
    }
   ],
   "source": [
    "len(dataset[dataset['book-title'] == 'Flesh Tones: A Novel'])"
   ]
  },
  {
   "cell_type": "code",
   "execution_count": 47,
   "metadata": {},
   "outputs": [],
   "source": [
    "dataset = dataset.merge(a, on = 'book-title')"
   ]
  },
  {
   "cell_type": "code",
   "execution_count": 48,
   "metadata": {},
   "outputs": [
    {
     "data": {
      "text/plain": [
       "count    1.031136e+06\n",
       "mean     6.978162e+01\n",
       "std      1.753381e+02\n",
       "min      1.000000e+00\n",
       "25%      3.000000e+00\n",
       "50%      1.300000e+01\n",
       "75%      6.100000e+01\n",
       "max      2.502000e+03\n",
       "Name: book-ratings-count, dtype: float64"
      ]
     },
     "execution_count": 48,
     "metadata": {},
     "output_type": "execute_result"
    }
   ],
   "source": [
    "dataset['book-ratings-count'].describe()"
   ]
  },
  {
   "cell_type": "code",
   "execution_count": 55,
   "metadata": {},
   "outputs": [
    {
     "data": {
      "text/plain": [
       "0.90     7.0\n",
       "0.91     8.0\n",
       "0.92     9.0\n",
       "0.93    10.0\n",
       "0.94    11.0\n",
       "0.95    13.0\n",
       "0.96    16.0\n",
       "0.97    20.0\n",
       "0.98    29.0\n",
       "0.99    50.0\n",
       "Name: book-ratings-count, dtype: float64"
      ]
     },
     "execution_count": 55,
     "metadata": {},
     "output_type": "execute_result"
    }
   ],
   "source": [
    "a['book-ratings-count'].quantile(np.arange(0.9, 1, 0.01))"
   ]
  },
  {
   "cell_type": "code",
   "execution_count": 49,
   "metadata": {},
   "outputs": [
    {
     "data": {
      "text/html": [
       "<div>\n",
       "<style scoped>\n",
       "    .dataframe tbody tr th:only-of-type {\n",
       "        vertical-align: middle;\n",
       "    }\n",
       "\n",
       "    .dataframe tbody tr th {\n",
       "        vertical-align: top;\n",
       "    }\n",
       "\n",
       "    .dataframe thead th {\n",
       "        text-align: right;\n",
       "    }\n",
       "</style>\n",
       "<table border=\"1\" class=\"dataframe\">\n",
       "  <thead>\n",
       "    <tr style=\"text-align: right;\">\n",
       "      <th></th>\n",
       "      <th>User-ID</th>\n",
       "      <th>ISBN</th>\n",
       "      <th>Book-Rating</th>\n",
       "      <th>book-title</th>\n",
       "      <th>author</th>\n",
       "      <th>year-of-publication</th>\n",
       "      <th>publisher</th>\n",
       "      <th>total_books_written</th>\n",
       "      <th>total_books_published</th>\n",
       "      <th>Location</th>\n",
       "      <th>Age</th>\n",
       "      <th>book-ratings-count</th>\n",
       "    </tr>\n",
       "  </thead>\n",
       "  <tbody>\n",
       "    <tr>\n",
       "      <th>0</th>\n",
       "      <td>276725</td>\n",
       "      <td>034545104X</td>\n",
       "      <td>NaN</td>\n",
       "      <td>Flesh Tones: A Novel</td>\n",
       "      <td>M. J. Rose</td>\n",
       "      <td>2002</td>\n",
       "      <td>Ballantine Books</td>\n",
       "      <td>3.0</td>\n",
       "      <td>3783.0</td>\n",
       "      <td>tyler, texas, usa</td>\n",
       "      <td>NaN</td>\n",
       "      <td>60</td>\n",
       "    </tr>\n",
       "    <tr>\n",
       "      <th>1</th>\n",
       "      <td>2313</td>\n",
       "      <td>034545104X</td>\n",
       "      <td>5.0</td>\n",
       "      <td>Flesh Tones: A Novel</td>\n",
       "      <td>M. J. Rose</td>\n",
       "      <td>2002</td>\n",
       "      <td>Ballantine Books</td>\n",
       "      <td>3.0</td>\n",
       "      <td>3783.0</td>\n",
       "      <td>cincinnati, ohio, usa</td>\n",
       "      <td>23.0</td>\n",
       "      <td>60</td>\n",
       "    </tr>\n",
       "    <tr>\n",
       "      <th>2</th>\n",
       "      <td>6543</td>\n",
       "      <td>034545104X</td>\n",
       "      <td>NaN</td>\n",
       "      <td>Flesh Tones: A Novel</td>\n",
       "      <td>M. J. Rose</td>\n",
       "      <td>2002</td>\n",
       "      <td>Ballantine Books</td>\n",
       "      <td>3.0</td>\n",
       "      <td>3783.0</td>\n",
       "      <td>strafford, missouri, usa</td>\n",
       "      <td>34.0</td>\n",
       "      <td>60</td>\n",
       "    </tr>\n",
       "    <tr>\n",
       "      <th>3</th>\n",
       "      <td>8680</td>\n",
       "      <td>034545104X</td>\n",
       "      <td>5.0</td>\n",
       "      <td>Flesh Tones: A Novel</td>\n",
       "      <td>M. J. Rose</td>\n",
       "      <td>2002</td>\n",
       "      <td>Ballantine Books</td>\n",
       "      <td>3.0</td>\n",
       "      <td>3783.0</td>\n",
       "      <td>st. charles county, missouri, usa</td>\n",
       "      <td>2.0</td>\n",
       "      <td>60</td>\n",
       "    </tr>\n",
       "    <tr>\n",
       "      <th>4</th>\n",
       "      <td>10314</td>\n",
       "      <td>034545104X</td>\n",
       "      <td>9.0</td>\n",
       "      <td>Flesh Tones: A Novel</td>\n",
       "      <td>M. J. Rose</td>\n",
       "      <td>2002</td>\n",
       "      <td>Ballantine Books</td>\n",
       "      <td>3.0</td>\n",
       "      <td>3783.0</td>\n",
       "      <td>beaverton, oregon, usa</td>\n",
       "      <td>NaN</td>\n",
       "      <td>60</td>\n",
       "    </tr>\n",
       "  </tbody>\n",
       "</table>\n",
       "</div>"
      ],
      "text/plain": [
       "   User-ID        ISBN  Book-Rating            book-title      author  \\\n",
       "0   276725  034545104X          NaN  Flesh Tones: A Novel  M. J. Rose   \n",
       "1     2313  034545104X          5.0  Flesh Tones: A Novel  M. J. Rose   \n",
       "2     6543  034545104X          NaN  Flesh Tones: A Novel  M. J. Rose   \n",
       "3     8680  034545104X          5.0  Flesh Tones: A Novel  M. J. Rose   \n",
       "4    10314  034545104X          9.0  Flesh Tones: A Novel  M. J. Rose   \n",
       "\n",
       "  year-of-publication         publisher  total_books_written  \\\n",
       "0                2002  Ballantine Books                  3.0   \n",
       "1                2002  Ballantine Books                  3.0   \n",
       "2                2002  Ballantine Books                  3.0   \n",
       "3                2002  Ballantine Books                  3.0   \n",
       "4                2002  Ballantine Books                  3.0   \n",
       "\n",
       "   total_books_published                           Location   Age  \\\n",
       "0                 3783.0                  tyler, texas, usa   NaN   \n",
       "1                 3783.0              cincinnati, ohio, usa  23.0   \n",
       "2                 3783.0           strafford, missouri, usa  34.0   \n",
       "3                 3783.0  st. charles county, missouri, usa   2.0   \n",
       "4                 3783.0             beaverton, oregon, usa   NaN   \n",
       "\n",
       "   book-ratings-count  \n",
       "0                  60  \n",
       "1                  60  \n",
       "2                  60  \n",
       "3                  60  \n",
       "4                  60  "
      ]
     },
     "execution_count": 49,
     "metadata": {},
     "output_type": "execute_result"
    }
   ],
   "source": [
    "dataset.head()"
   ]
  },
  {
   "cell_type": "code",
   "execution_count": 50,
   "metadata": {},
   "outputs": [],
   "source": [
    "user_rating_counts = pd.DataFrame(dataset['User-ID'].value_counts())\n",
    "user_rating_counts.reset_index(inplace = True)\n",
    "user_rating_counts.columns = ['User-ID', 'user-rating-counts']"
   ]
  },
  {
   "cell_type": "code",
   "execution_count": 51,
   "metadata": {},
   "outputs": [
    {
     "data": {
      "text/html": [
       "<div>\n",
       "<style scoped>\n",
       "    .dataframe tbody tr th:only-of-type {\n",
       "        vertical-align: middle;\n",
       "    }\n",
       "\n",
       "    .dataframe tbody tr th {\n",
       "        vertical-align: top;\n",
       "    }\n",
       "\n",
       "    .dataframe thead th {\n",
       "        text-align: right;\n",
       "    }\n",
       "</style>\n",
       "<table border=\"1\" class=\"dataframe\">\n",
       "  <thead>\n",
       "    <tr style=\"text-align: right;\">\n",
       "      <th></th>\n",
       "      <th>User-ID</th>\n",
       "      <th>user-rating-counts</th>\n",
       "    </tr>\n",
       "  </thead>\n",
       "  <tbody>\n",
       "    <tr>\n",
       "      <th>0</th>\n",
       "      <td>11676</td>\n",
       "      <td>11144</td>\n",
       "    </tr>\n",
       "    <tr>\n",
       "      <th>1</th>\n",
       "      <td>198711</td>\n",
       "      <td>6456</td>\n",
       "    </tr>\n",
       "    <tr>\n",
       "      <th>2</th>\n",
       "      <td>153662</td>\n",
       "      <td>5814</td>\n",
       "    </tr>\n",
       "    <tr>\n",
       "      <th>3</th>\n",
       "      <td>98391</td>\n",
       "      <td>5779</td>\n",
       "    </tr>\n",
       "    <tr>\n",
       "      <th>4</th>\n",
       "      <td>35859</td>\n",
       "      <td>5646</td>\n",
       "    </tr>\n",
       "  </tbody>\n",
       "</table>\n",
       "</div>"
      ],
      "text/plain": [
       "   User-ID  user-rating-counts\n",
       "0    11676               11144\n",
       "1   198711                6456\n",
       "2   153662                5814\n",
       "3    98391                5779\n",
       "4    35859                5646"
      ]
     },
     "execution_count": 51,
     "metadata": {},
     "output_type": "execute_result"
    }
   ],
   "source": [
    "user_rating_counts.head()"
   ]
  },
  {
   "cell_type": "code",
   "execution_count": 52,
   "metadata": {},
   "outputs": [],
   "source": [
    "dataset = dataset.merge(user_rating_counts, on = 'User-ID')"
   ]
  },
  {
   "cell_type": "code",
   "execution_count": 53,
   "metadata": {},
   "outputs": [
    {
     "data": {
      "text/html": [
       "<div>\n",
       "<style scoped>\n",
       "    .dataframe tbody tr th:only-of-type {\n",
       "        vertical-align: middle;\n",
       "    }\n",
       "\n",
       "    .dataframe tbody tr th {\n",
       "        vertical-align: top;\n",
       "    }\n",
       "\n",
       "    .dataframe thead th {\n",
       "        text-align: right;\n",
       "    }\n",
       "</style>\n",
       "<table border=\"1\" class=\"dataframe\">\n",
       "  <thead>\n",
       "    <tr style=\"text-align: right;\">\n",
       "      <th></th>\n",
       "      <th>User-ID</th>\n",
       "      <th>ISBN</th>\n",
       "      <th>Book-Rating</th>\n",
       "      <th>book-title</th>\n",
       "      <th>author</th>\n",
       "      <th>year-of-publication</th>\n",
       "      <th>publisher</th>\n",
       "      <th>total_books_written</th>\n",
       "      <th>total_books_published</th>\n",
       "      <th>Location</th>\n",
       "      <th>Age</th>\n",
       "      <th>book-ratings-count</th>\n",
       "      <th>user-rating-counts</th>\n",
       "    </tr>\n",
       "  </thead>\n",
       "  <tbody>\n",
       "    <tr>\n",
       "      <th>0</th>\n",
       "      <td>276725</td>\n",
       "      <td>034545104X</td>\n",
       "      <td>NaN</td>\n",
       "      <td>Flesh Tones: A Novel</td>\n",
       "      <td>M. J. Rose</td>\n",
       "      <td>2002</td>\n",
       "      <td>Ballantine Books</td>\n",
       "      <td>3.0</td>\n",
       "      <td>3783.0</td>\n",
       "      <td>tyler, texas, usa</td>\n",
       "      <td>NaN</td>\n",
       "      <td>60</td>\n",
       "      <td>1</td>\n",
       "    </tr>\n",
       "    <tr>\n",
       "      <th>1</th>\n",
       "      <td>2313</td>\n",
       "      <td>034545104X</td>\n",
       "      <td>5.0</td>\n",
       "      <td>Flesh Tones: A Novel</td>\n",
       "      <td>M. J. Rose</td>\n",
       "      <td>2002</td>\n",
       "      <td>Ballantine Books</td>\n",
       "      <td>3.0</td>\n",
       "      <td>3783.0</td>\n",
       "      <td>cincinnati, ohio, usa</td>\n",
       "      <td>23.0</td>\n",
       "      <td>60</td>\n",
       "      <td>36</td>\n",
       "    </tr>\n",
       "    <tr>\n",
       "      <th>2</th>\n",
       "      <td>2313</td>\n",
       "      <td>0812533550</td>\n",
       "      <td>9.0</td>\n",
       "      <td>Ender's Game (Ender Wiggins Saga (Paperback))</td>\n",
       "      <td>Orson Scott Card</td>\n",
       "      <td>1986</td>\n",
       "      <td>Tor Books</td>\n",
       "      <td>130.0</td>\n",
       "      <td>1704.0</td>\n",
       "      <td>cincinnati, ohio, usa</td>\n",
       "      <td>23.0</td>\n",
       "      <td>249</td>\n",
       "      <td>36</td>\n",
       "    </tr>\n",
       "    <tr>\n",
       "      <th>3</th>\n",
       "      <td>2313</td>\n",
       "      <td>0679745580</td>\n",
       "      <td>8.0</td>\n",
       "      <td>In Cold Blood (Vintage International)</td>\n",
       "      <td>TRUMAN CAPOTE</td>\n",
       "      <td>1994</td>\n",
       "      <td>Vintage</td>\n",
       "      <td>4.0</td>\n",
       "      <td>437.0</td>\n",
       "      <td>cincinnati, ohio, usa</td>\n",
       "      <td>23.0</td>\n",
       "      <td>55</td>\n",
       "      <td>36</td>\n",
       "    </tr>\n",
       "    <tr>\n",
       "      <th>4</th>\n",
       "      <td>2313</td>\n",
       "      <td>0060173289</td>\n",
       "      <td>9.0</td>\n",
       "      <td>Divine Secrets of the Ya-Ya Sisterhood : A Novel</td>\n",
       "      <td>Rebecca Wells</td>\n",
       "      <td>1996</td>\n",
       "      <td>HarperCollins</td>\n",
       "      <td>21.0</td>\n",
       "      <td>845.0</td>\n",
       "      <td>cincinnati, ohio, usa</td>\n",
       "      <td>23.0</td>\n",
       "      <td>130</td>\n",
       "      <td>36</td>\n",
       "    </tr>\n",
       "  </tbody>\n",
       "</table>\n",
       "</div>"
      ],
      "text/plain": [
       "   User-ID        ISBN  Book-Rating  \\\n",
       "0   276725  034545104X          NaN   \n",
       "1     2313  034545104X          5.0   \n",
       "2     2313  0812533550          9.0   \n",
       "3     2313  0679745580          8.0   \n",
       "4     2313  0060173289          9.0   \n",
       "\n",
       "                                         book-title            author  \\\n",
       "0                              Flesh Tones: A Novel        M. J. Rose   \n",
       "1                              Flesh Tones: A Novel        M. J. Rose   \n",
       "2     Ender's Game (Ender Wiggins Saga (Paperback))  Orson Scott Card   \n",
       "3             In Cold Blood (Vintage International)     TRUMAN CAPOTE   \n",
       "4  Divine Secrets of the Ya-Ya Sisterhood : A Novel     Rebecca Wells   \n",
       "\n",
       "  year-of-publication         publisher  total_books_written  \\\n",
       "0                2002  Ballantine Books                  3.0   \n",
       "1                2002  Ballantine Books                  3.0   \n",
       "2                1986         Tor Books                130.0   \n",
       "3                1994           Vintage                  4.0   \n",
       "4                1996     HarperCollins                 21.0   \n",
       "\n",
       "   total_books_published               Location   Age  book-ratings-count  \\\n",
       "0                 3783.0      tyler, texas, usa   NaN                  60   \n",
       "1                 3783.0  cincinnati, ohio, usa  23.0                  60   \n",
       "2                 1704.0  cincinnati, ohio, usa  23.0                 249   \n",
       "3                  437.0  cincinnati, ohio, usa  23.0                  55   \n",
       "4                  845.0  cincinnati, ohio, usa  23.0                 130   \n",
       "\n",
       "   user-rating-counts  \n",
       "0                   1  \n",
       "1                  36  \n",
       "2                  36  \n",
       "3                  36  \n",
       "4                  36  "
      ]
     },
     "execution_count": 53,
     "metadata": {},
     "output_type": "execute_result"
    }
   ],
   "source": [
    "dataset.head()"
   ]
  },
  {
   "cell_type": "code",
   "execution_count": 54,
   "metadata": {},
   "outputs": [],
   "source": [
    "dataset.to_pickle('finaldataset.pickle')"
   ]
  },
  {
   "cell_type": "code",
   "execution_count": null,
   "metadata": {},
   "outputs": [],
   "source": []
  }
 ],
 "metadata": {
  "kernelspec": {
   "display_name": "Python 3",
   "language": "python",
   "name": "python3"
  },
  "language_info": {
   "codemirror_mode": {
    "name": "ipython",
    "version": 2
   },
   "file_extension": ".py",
   "mimetype": "text/x-python",
   "name": "python",
   "nbconvert_exporter": "python",
   "pygments_lexer": "ipython2",
   "version": "2.7.15rc1"
  }
 },
 "nbformat": 4,
 "nbformat_minor": 2
}
