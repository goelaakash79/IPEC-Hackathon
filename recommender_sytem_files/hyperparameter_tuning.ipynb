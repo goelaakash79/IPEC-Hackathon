{
 "cells": [
  {
   "cell_type": "code",
   "execution_count": 2,
   "metadata": {},
   "outputs": [],
   "source": [
    "import numpy as np\n",
    "import os\n",
    "from sklearn.metrics import average_precision_score\n",
    "import matplotlib.pyplot as plt\n",
    "import surprise\n",
    "from collections import defaultdict\n",
    "import random\n",
    "import pandas as pd\n",
    "from __future__ import division"
   ]
  },
  {
   "cell_type": "code",
   "execution_count": 3,
   "metadata": {},
   "outputs": [],
   "source": [
    "# source : https://surprise.readthedocs.io/en/stable/FAQ.html"
   ]
  },
  {
   "cell_type": "code",
   "execution_count": 4,
   "metadata": {},
   "outputs": [],
   "source": [
    "def precision_recall_at_k(predictions, k=10, threshold=7):\n",
    "    '''Return precision and recall at k metrics for each user.'''\n",
    "\n",
    "    # First map the predictions to each user.\n",
    "    user_est_true = defaultdict(list)\n",
    "    for uid, _, true_r, est, _ in predictions:\n",
    "        user_est_true[uid].append((est, true_r))\n",
    "\n",
    "    precisions = dict()\n",
    "    recalls = dict()\n",
    "    for uid, user_ratings in user_est_true.items():\n",
    "\n",
    "        # Sort user ratings by estimated value\n",
    "        user_ratings.sort(key=lambda x: x[0], reverse=True)\n",
    "\n",
    "        # Number of relevant items\n",
    "        n_rel = sum((true_r >= threshold) for (_, true_r) in user_ratings)\n",
    "\n",
    "        # Number of recommended items in top k\n",
    "        n_rec_k = sum((est >= threshold) for (est, _) in user_ratings[:k])\n",
    "\n",
    "        # Number of relevant and recommended items in top k\n",
    "        n_rel_and_rec_k = sum(((true_r >= threshold) and (est >= threshold))\n",
    "                              for (est, true_r) in user_ratings[:k])\n",
    "\n",
    "        # Precision@K: Proportion of recommended items that are relevant\n",
    "        precisions[uid] = n_rel_and_rec_k / n_rec_k if n_rec_k != 0 else 1\n",
    "\n",
    "        # Recall@K: Proportion of relevant items that are recommended\n",
    "        recalls[uid] = n_rel_and_rec_k / n_rel if n_rel != 0 else 1\n",
    "\n",
    "    return precisions, recalls\n"
   ]
  },
  {
   "cell_type": "code",
   "execution_count": 5,
   "metadata": {},
   "outputs": [],
   "source": [
    "def get_top_n(predictions, n=10):\n",
    "    '''Return the top-N recommendation for each user from a set of predictions.\n",
    "\n",
    "    Args:\n",
    "        predictions(list of Prediction objects): The list of predictions, as\n",
    "            returned by the test method of an algorithm.\n",
    "        n(int): The number of recommendation to output for each user. Default\n",
    "            is 10.\n",
    "\n",
    "    Returns:\n",
    "    A dict where keys are user (raw) ids and values are lists of tuples:\n",
    "        [(raw item id, rating estimation), ...] of size n.\n",
    "    '''\n",
    "\n",
    "    # First map the predictions to each user.\n",
    "    top_n = defaultdict(list)\n",
    "    for uid, iid, true_r, est, _ in predictions:\n",
    "        top_n[uid].append((iid, est))\n",
    "\n",
    "    # Then sort the predictions for each user and retrieve the k highest ones.\n",
    "    for uid, user_ratings in top_n.items():\n",
    "        user_ratings.sort(key=lambda x: x[1], reverse=True)\n",
    "        top_n[uid] = user_ratings[:n]\n",
    "\n",
    "    return top_n\n"
   ]
  },
  {
   "cell_type": "code",
   "execution_count": 6,
   "metadata": {},
   "outputs": [],
   "source": [
    "train = pd.read_csv('train.csv')\n",
    "reader = surprise.Reader(rating_scale=(1, 10))\n",
    "data = surprise.Dataset.load_from_df(train[['User-ID', 'ISBN', 'Book-Rating']], reader)"
   ]
  },
  {
   "cell_type": "code",
   "execution_count": 7,
   "metadata": {},
   "outputs": [],
   "source": [
    "train = pd.read_csv('train.csv')\n",
    "reader = surprise.Reader(rating_scale=(1, 10))\n",
    "data = surprise.Dataset.load_from_df(train[['User-ID', 'ISBN', 'Book-Rating']], reader)\n",
    "random.seed()\n",
    "data.split(n_folds=5)\n",
    "\n",
    "sim_options = {'name': 'pearson',\n",
    "       'user_based': False  # compute  similarities between items\n",
    "       }\n",
    "ks = [1, 3, 5, 9, 12]\n",
    "mean_ap = []\n",
    "precision = []\n",
    "recall = []\n",
    "fscore = []\n",
    "normalized_DCG = []\n",
    "mean_ap_train = []\n",
    "precision_train = []\n",
    "recall_train = []\n",
    "fscore_train = []\n",
    "normalized_DCG_train = []\n",
    "N_rec = 10  \n",
    "\n",
    "thresh = 7"
   ]
  },
  {
   "cell_type": "code",
   "execution_count": 8,
   "metadata": {},
   "outputs": [],
   "source": [
    "sim_options = {'name': 'pearson_baseline',\n",
    "       'user_based': False  # compute  similarities between items\n",
    "       }\n",
    "\n",
    "mean_ap = []\n",
    "precision = []\n",
    "recall = []\n",
    "fscore = []\n",
    "normalized_DCG = []\n",
    "mean_ap_train = []\n",
    "precision_train = []\n",
    "recall_train = []\n",
    "fscore_train = []\n",
    "normalized_DCG_train = []\n",
    "N_rec = 10\n",
    "thresh = 7"
   ]
  },
  {
   "cell_type": "code",
   "execution_count": 9,
   "metadata": {},
   "outputs": [],
   "source": [
    "graph_data_precision_train = []\n",
    "graph_data_recall_train = []\n",
    "\n",
    "graph_data_precision_test = []\n",
    "graph_data_recall_test = []"
   ]
  },
  {
   "cell_type": "code",
   "execution_count": 10,
   "metadata": {},
   "outputs": [
    {
     "name": "stdout",
     "output_type": "stream",
     "text": [
      "1\n"
     ]
    },
    {
     "name": "stderr",
     "output_type": "stream",
     "text": [
      "/home/revant/.local/lib/python2.7/site-packages/surprise/dataset.py:193: UserWarning: Using data.split() or using load_from_folds() without using a CV iterator is now deprecated. \n",
      "  UserWarning)\n",
      "/home/revant/.local/lib/python2.7/site-packages/surprise/prediction_algorithms/algo_base.py:51: UserWarning: train() is deprecated. Use fit() instead\n",
      "  warnings.warn('train() is deprecated. Use fit() instead', UserWarning)\n"
     ]
    },
    {
     "name": "stdout",
     "output_type": "stream",
     "text": [
      "Computing the pearson similarity matrix...\n",
      "Done computing similarity matrix.\n",
      "Computing the pearson similarity matrix...\n",
      "Done computing similarity matrix.\n",
      "Computing the pearson similarity matrix...\n",
      "Done computing similarity matrix.\n",
      "Computing the pearson similarity matrix...\n",
      "Done computing similarity matrix.\n",
      "Computing the pearson similarity matrix...\n",
      "Done computing similarity matrix.\n",
      "1.0424156272877103 1.0288615602306006\n",
      "1.2147238756613747 0.7961010219140587\n",
      "3\n",
      "Computing the pearson similarity matrix...\n",
      "Done computing similarity matrix.\n",
      "Computing the pearson similarity matrix...\n",
      "Done computing similarity matrix.\n",
      "Computing the pearson similarity matrix...\n",
      "Done computing similarity matrix.\n",
      "Computing the pearson similarity matrix...\n",
      "Done computing similarity matrix.\n",
      "Computing the pearson similarity matrix...\n",
      "Done computing similarity matrix.\n",
      "1.043348864101526 1.040761974243249\n",
      "1.2334900655864196 0.7886677543464656\n",
      "5\n",
      "Computing the pearson similarity matrix...\n",
      "Done computing similarity matrix.\n",
      "Computing the pearson similarity matrix...\n",
      "Done computing similarity matrix.\n",
      "Computing the pearson similarity matrix...\n",
      "Done computing similarity matrix.\n",
      "Computing the pearson similarity matrix...\n",
      "Done computing similarity matrix.\n",
      "Computing the pearson similarity matrix...\n",
      "Done computing similarity matrix.\n",
      "1.0433023763822509 1.0413461219683668\n",
      "1.235712563381834 0.7891940548160263\n",
      "9\n",
      "Computing the pearson similarity matrix...\n",
      "Done computing similarity matrix.\n",
      "Computing the pearson similarity matrix...\n",
      "Done computing similarity matrix.\n",
      "Computing the pearson similarity matrix...\n",
      "Done computing similarity matrix.\n",
      "Computing the pearson similarity matrix...\n",
      "Done computing similarity matrix.\n",
      "Computing the pearson similarity matrix...\n",
      "Done computing similarity matrix.\n",
      "1.0435442288435746 1.0421288211385462\n",
      "1.2370192970127865 0.7890698827844861\n",
      "12\n",
      "Computing the pearson similarity matrix...\n",
      "Done computing similarity matrix.\n",
      "Computing the pearson similarity matrix...\n",
      "Done computing similarity matrix.\n",
      "Computing the pearson similarity matrix...\n",
      "Done computing similarity matrix.\n",
      "Computing the pearson similarity matrix...\n",
      "Done computing similarity matrix.\n",
      "Computing the pearson similarity matrix...\n",
      "Done computing similarity matrix.\n",
      "1.0435528681258308 1.0422555184846434\n",
      "1.2370969742063491 0.7890964164192147\n"
     ]
    }
   ],
   "source": [
    "sim_options = {'name': 'pearson',\n",
    "       'user_based': False  # compute  similarities between items\n",
    "       }\n",
    "\n",
    "mean_ap = []\n",
    "precision = []\n",
    "recall = []\n",
    "fscore = []\n",
    "normalized_DCG = []\n",
    "mean_ap_train = []\n",
    "precision_train = []\n",
    "recall_train = []\n",
    "fscore_train = []\n",
    "normalized_DCG_train = []\n",
    "\n",
    "for k_val in ks:\n",
    "    print(k_val)\n",
    "    algo = surprise.KNNWithZScore(k=k_val,sim_options=sim_options)\n",
    "    pr = 0\n",
    "    re = 0\n",
    "    fs = 0\n",
    "    ap = 0\n",
    "    nd = 0\n",
    "    pr_train = 0\n",
    "    re_train = 0\n",
    "    fs_train = 0\n",
    "    ap_train = 0\n",
    "    nd_train = 0\n",
    "    p_train_avg = 0\n",
    "    r_train_avg = 0\n",
    "    for trainset, testset in data.folds():\n",
    "        algo.train(trainset)\n",
    "        predictions_on_test = algo.test(testset)\n",
    "        precisions_test, recalls_test = precision_recall_at_k(predictions_on_test, k=N_rec, threshold=thresh)\n",
    "#         aps = ap_at_k(predictions_on_test, k=N_rec, threshold=thresh)\n",
    "#         nDCG = ndcg_at_k(predictions_on_test,k=N_rec)\n",
    "        p = sum(prec for prec in precisions_test.values()) / len(precisions_test)\n",
    "        r = sum(rec for rec in recalls_test.values()) / len(recalls_test)\n",
    "#         f_score = 2/(1/p+1/r)        \n",
    "        pr = pr + p\n",
    "        re = re + r\n",
    "#         fs = fs + f_score\n",
    "#         nd = nd + nDCG\n",
    "#         ap = ap + np.nanmean(aps.values())\n",
    "        \n",
    "        trainset_to_test = trainset.build_testset()\n",
    "        predictions_on_train = algo.test(trainset_to_test)\n",
    "        precisions_train, recalls_train = precision_recall_at_k(predictions_on_train, k=N_rec, threshold=thresh)\n",
    "    \n",
    "#         aps_train = ap_at_k(predictions_on_train, k=N_rec, threshold=thresh)\n",
    "#         nDCG_train = ndcg_at_k(predictions_on_train,k=N_rec)\n",
    "        p_train = sum(prec for prec in precisions_train.values()) / len(precisions_train)\n",
    "        r_train = sum(rec for rec in recalls_train.values()) / len(recalls_train)\n",
    "        p_train_avg += p_train\n",
    "        r_train_avg += r_train\n",
    "    print pr/4, re/4\n",
    "    graph_data_precision_test.append((k_val, pr / 4))\n",
    "    graph_data_recall_test.append((k_val, re / 4))\n",
    "    \n",
    "    graph_data_precision_train.append((k_val, p_train_avg / 4))\n",
    "    graph_data_recall_train.append((k_val, r_train_avg / 4))\n",
    "    \n",
    "    print p_train_avg / 4, r_train_avg / 4"
   ]
  },
  {
   "cell_type": "code",
   "execution_count": 11,
   "metadata": {},
   "outputs": [
    {
     "data": {
      "image/png": "[encoded data removed]",
      "text/plain": [
       "<Figure size 864x720 with 1 Axes>"
      ]
     },
     "metadata": {
      "needs_background": "light"
     },
     "output_type": "display_data"
    }
   ],
   "source": [
    "import matplotlib.pyplot as plt\n",
    "import seaborn as sns\n",
    "from matplotlib.pyplot import figure\n",
    "\n",
    "figure(num=None, figsize=(12, 10))\n",
    "plt.plot([i for i, j in graph_data_precision_train], [j for i, j in graph_data_precision_train], label = 'Training Precison')\n",
    "# [(i, j) for i, j in graph_data_precision_train]\n",
    "plt.plot([i for i, j in graph_data_recall_train], [j for i, j in graph_data_recall_train], label = 'Training Recall')\n",
    "[(i, j) for i, j in graph_data_recall_train]\n",
    "plt.xticks([i for i, j in graph_data_recall_train])\n",
    "plt.title(\"Training Data Precision and Recall\")\n",
    "plt.legend()\n",
    "plt.xlabel(\"k Values\")\n",
    "plt.ylabel(\"Precison / Recall\")\n",
    "\n",
    "plt.savefig('training_precision_recall.png')\n",
    "\n",
    "# plt.yticks([j for i, j in graph_data_recall_train] + [j for i, j in graph_data_precision_train])"
   ]
  },
  {
   "cell_type": "code",
   "execution_count": 12,
   "metadata": {},
   "outputs": [
    {
     "data": {
      "image/png": "[encoded data removed]",
      "text/plain": [
       "<Figure size 864x720 with 1 Axes>"
      ]
     },
     "metadata": {
      "needs_background": "light"
     },
     "output_type": "display_data"
    }
   ],
   "source": [
    "import matplotlib.pyplot as plt\n",
    "import seaborn as sns\n",
    "from matplotlib.pyplot import figure\n",
    "\n",
    "figure(num=None, figsize=(12, 10))\n",
    "plt.plot([i for i, j in graph_data_precision_test], [j for i, j in graph_data_precision_test], label = 'Testing Precison')\n",
    "# [(i, j) for i, j in graph_data_precision_train]\n",
    "plt.plot([i for i, j in graph_data_recall_test], [j for i, j in graph_data_recall_test], label = 'Testing Recall')\n",
    "# [(i, j) for i, j in graph_data_recall_train]\n",
    "plt.xticks([i for i, j in graph_data_recall_test])\n",
    "plt.legend()\n",
    "plt.xlabel(\"k Values\")\n",
    "plt.ylabel(\"Precison / Recall\")\n",
    "plt.title(\"Testing Data Precision and Recall\")\n",
    "\n",
    "plt.savefig('testing_precision_recall.png')\n",
    "\n",
    "# plt.yticks([j for i, j in graph_data_recall_train] + [j for i, j in graph_data_precision_train])"
   ]
  },
  {
   "cell_type": "code",
   "execution_count": null,
   "metadata": {},
   "outputs": [],
   "source": []
  }
 ],
 "metadata": {
  "kernelspec": {
   "display_name": "Python 2",
   "language": "python",
   "name": "python2"
  },
  "language_info": {
   "codemirror_mode": {
    "name": "ipython",
    "version": 2
   },
   "file_extension": ".py",
   "mimetype": "text/x-python",
   "name": "python",
   "nbconvert_exporter": "python",
   "pygments_lexer": "ipython2",
   "version": "2.7.15rc1"
  }
 },
 "nbformat": 4,
 "nbformat_minor": 2
}
