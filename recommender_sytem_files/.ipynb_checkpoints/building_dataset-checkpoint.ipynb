{
 "cells": [
  {
   "cell_type": "code",
   "execution_count": 9,
   "metadata": {},
   "outputs": [],
   "source": [
    "import numpy as np\n",
    "import pandas as pd\n",
    "import matplotlib.pyplot as plt\n",
    "import seaborn as sns\n",
    "import surprise"
   ]
  },
  {
   "cell_type": "code",
   "execution_count": 10,
   "metadata": {},
   "outputs": [
    {
     "name": "stderr",
     "output_type": "stream",
     "text": [
      "Skipping line 6452: expected 8 fields, saw 9\n",
      "Skipping line 43667: expected 8 fields, saw 10\n",
      "Skipping line 51751: expected 8 fields, saw 9\n",
      "\n",
      "Skipping line 92038: expected 8 fields, saw 9\n",
      "Skipping line 104319: expected 8 fields, saw 9\n",
      "Skipping line 121768: expected 8 fields, saw 9\n",
      "\n",
      "Skipping line 144058: expected 8 fields, saw 9\n",
      "Skipping line 150789: expected 8 fields, saw 9\n",
      "Skipping line 157128: expected 8 fields, saw 9\n",
      "Skipping line 180189: expected 8 fields, saw 9\n",
      "Skipping line 185738: expected 8 fields, saw 9\n",
      "\n",
      "Skipping line 209388: expected 8 fields, saw 9\n",
      "Skipping line 220626: expected 8 fields, saw 9\n",
      "Skipping line 227933: expected 8 fields, saw 11\n",
      "Skipping line 228957: expected 8 fields, saw 10\n",
      "Skipping line 245933: expected 8 fields, saw 9\n",
      "Skipping line 251296: expected 8 fields, saw 9\n",
      "Skipping line 259941: expected 8 fields, saw 9\n",
      "Skipping line 261529: expected 8 fields, saw 9\n",
      "\n"
     ]
    }
   ],
   "source": [
    "items = pd.read_csv('BX-Books.csv',sep=';',error_bad_lines=False, encoding = 'latin-1')\n",
    "ratings = pd.read_csv('BX-Book-Ratings.csv',sep=';', error_bad_lines = False, encoding = 'latin-1')\n",
    "ratings = ratings[ratings['Book-Rating'] > 0]\n",
    "users_dataset = pd.read_csv('BX-Users.csv',sep=';', error_bad_lines = False, encoding = 'latin-1')"
   ]
  },
  {
   "cell_type": "code",
   "execution_count": 11,
   "metadata": {},
   "outputs": [
    {
     "name": "stdout",
     "output_type": "stream",
     "text": [
      "929865\n",
      "(77805, 185973)\n"
     ]
    }
   ],
   "source": [
    "ratings_final = ratings[ratings['ISBN'].isin(items['ISBN'])]\n",
    "\n",
    "d = (len(ratings) / (len(ratings['User-ID'].unique())) * len(ratings['ISBN'].unique()))\n",
    "print (d) \n",
    "print (len(ratings['User-ID'].unique()) , len(ratings['ISBN'].unique()) )"
   ]
  },
  {
   "cell_type": "code",
   "execution_count": 12,
   "metadata": {},
   "outputs": [
    {
     "data": {
      "text/plain": [
       "77805"
      ]
     },
     "execution_count": 12,
     "metadata": {},
     "output_type": "execute_result"
    }
   ],
   "source": [
    "len(ratings['User-ID'].unique())"
   ]
  },
  {
   "cell_type": "code",
   "execution_count": 13,
   "metadata": {},
   "outputs": [
    {
     "data": {
      "text/plain": [
       "185973"
      ]
     },
     "execution_count": 13,
     "metadata": {},
     "output_type": "execute_result"
    }
   ],
   "source": [
    "len(ratings['ISBN'].unique())"
   ]
  },
  {
   "cell_type": "code",
   "execution_count": 14,
   "metadata": {},
   "outputs": [
    {
     "data": {
      "text/plain": [
       "2"
      ]
     },
     "execution_count": 14,
     "metadata": {},
     "output_type": "execute_result"
    }
   ],
   "source": [
    "import sys\n",
    "sys.version_info[0]"
   ]
  },
  {
   "cell_type": "code",
   "execution_count": 15,
   "metadata": {},
   "outputs": [
    {
     "name": "stdout",
     "output_type": "stream",
     "text": [
      "0\n",
      "40493 5645\n"
     ]
    }
   ],
   "source": [
    "ratings_final = ratings.groupby('ISBN').filter(lambda x: len(x) >= 10)\n",
    "d2 = (len(ratings_final)) / ((len(ratings_final['User-ID'].unique())) * len(ratings_final['ISBN'].unique()))\n",
    "print d2\n",
    "print len(ratings_final['User-ID'].unique()), len(ratings_final['ISBN'].unique())"
   ]
  },
  {
   "cell_type": "code",
   "execution_count": 16,
   "metadata": {},
   "outputs": [
    {
     "name": "stdout",
     "output_type": "stream",
     "text": [
      "0\n",
      "1152 5546\n"
     ]
    }
   ],
   "source": [
    "b = ratings_final.groupby('User-ID').filter(lambda x: len(x) >= 20)\n",
    "d3 = len(b) / (len(b['User-ID'].unique()) * len(b['ISBN'].unique()) )\n",
    "print d3\n",
    "print len(b['User-ID'].unique()), len(b['ISBN'].unique())"
   ]
  },
  {
   "cell_type": "code",
   "execution_count": 17,
   "metadata": {},
   "outputs": [],
   "source": [
    "grouped = b.groupby('User-ID')\n",
    "test = grouped.apply(lambda x: x.sample(10))\n",
    "test = test.reset_index(drop=True)"
   ]
  },
  {
   "cell_type": "code",
   "execution_count": 18,
   "metadata": {},
   "outputs": [],
   "source": [
    "keys = ['User-ID', 'ISBN']\n",
    "i1 = b.set_index(keys).index\n",
    "i2 = test.set_index(keys).index\n",
    "train = b[~i1.isin(i2)]"
   ]
  },
  {
   "cell_type": "code",
   "execution_count": 19,
   "metadata": {},
   "outputs": [],
   "source": [
    "train.to_csv('train.csv')\n",
    "test.to_csv('test.csv')\n",
    "b.to_csv('sampled.csv')"
   ]
  },
  {
   "cell_type": "code",
   "execution_count": null,
   "metadata": {},
   "outputs": [],
   "source": []
  },
  {
   "cell_type": "code",
   "execution_count": 26,
   "metadata": {},
   "outputs": [],
   "source": [
    "all_books = ratings_final['ISBN'].unique()"
   ]
  },
  {
   "cell_type": "code",
   "execution_count": 38,
   "metadata": {},
   "outputs": [],
   "source": [
    "book_data = {}\n",
    "import requests\n",
    "k = 0"
   ]
  },
  {
   "cell_type": "code",
   "execution_count": 39,
   "metadata": {},
   "outputs": [
    {
     "name": "stdout",
     "output_type": "stream",
     "text": [
      "500\n",
      "1000\n",
      "1500\n",
      "2000\n",
      "2500\n",
      "3000\n",
      "3500\n",
      "4000\n",
      "4500\n",
      "5000\n",
      "5500\n"
     ]
    }
   ],
   "source": [
    "for isbn in all_books:\n",
    "    data = requests.get(\"https://www.googleapis.com/books/v1/volumes?q=isbn:\" + str(isbn))\n",
    "    k += 1 \n",
    "#     print data.json()\n",
    "    book_data[isbn] = data.json()\n",
    "    if k % 500 == 0 and k >= 500:\n",
    "        print k"
   ]
  },
  {
   "cell_type": "code",
   "execution_count": 41,
   "metadata": {},
   "outputs": [],
   "source": [
    "import pickle\n",
    "with open(\"full_book_data.pickle\", \"wb\") as file:\n",
    "    pickle.dump(book_data, file)"
   ]
  },
  {
   "cell_type": "code",
   "execution_count": 43,
   "metadata": {},
   "outputs": [
    {
     "data": {
      "text/plain": [
       "u'0805029648'"
      ]
     },
     "execution_count": 43,
     "metadata": {},
     "output_type": "execute_result"
    }
   ],
   "source": [
    "import random\n",
    "random.choice(list(book_data.keys()))"
   ]
  },
  {
   "cell_type": "code",
   "execution_count": 44,
   "metadata": {},
   "outputs": [
    {
     "data": {
      "text/plain": [
       "{u'error': {u'code': 403,\n",
       "  u'errors': [{u'domain': u'usageLimits',\n",
       "    u'extendedHelp': u'https://code.google.com/apis/console',\n",
       "    u'message': u'User Rate Limit Exceeded. Please sign up',\n",
       "    u'reason': u'userRateLimitExceededUnreg'}],\n",
       "  u'message': u'User Rate Limit Exceeded. Please sign up'}}"
      ]
     },
     "execution_count": 44,
     "metadata": {},
     "output_type": "execute_result"
    }
   ],
   "source": [
    "book_data['0805029648']"
   ]
  },
  {
   "cell_type": "code",
   "execution_count": 47,
   "metadata": {},
   "outputs": [
    {
     "data": {
      "text/plain": [
       "{u'error': {u'code': 403,\n",
       "  u'errors': [{u'domain': u'usageLimits',\n",
       "    u'extendedHelp': u'https://code.google.com/apis/console',\n",
       "    u'message': u'User Rate Limit Exceeded. Please sign up',\n",
       "    u'reason': u'userRateLimitExceededUnreg'}],\n",
       "  u'message': u'User Rate Limit Exceeded. Please sign up'}}"
      ]
     },
     "execution_count": 47,
     "metadata": {},
     "output_type": "execute_result"
    }
   ],
   "source": [
    "book_data[book_data.keys()[1]]"
   ]
  },
  {
   "cell_type": "code",
   "execution_count": null,
   "metadata": {},
   "outputs": [],
   "source": []
  }
 ],
 "metadata": {
  "kernelspec": {
   "display_name": "Python 3",
   "language": "python",
   "name": "python3"
  },
  "language_info": {
   "codemirror_mode": {
    "name": "ipython",
    "version": 2
   },
   "file_extension": ".py",
   "mimetype": "text/x-python",
   "name": "python",
   "nbconvert_exporter": "python",
   "pygments_lexer": "ipython2",
   "version": "2.7.15rc1"
  }
 },
 "nbformat": 4,
 "nbformat_minor": 2
}
